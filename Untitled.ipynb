{
 "cells": [
  {
   "cell_type": "code",
   "execution_count": 2,
   "metadata": {
    "collapsed": false
   },
   "outputs": [
    {
     "name": "stdout",
     "output_type": "stream",
     "text": [
      "Adding library niak to the search path.\n",
      "\n",
      "Adding library psom to the search path.\n",
      "\n",
      "Adding library zooniverse_qc to the search path.\n",
      "\n"
     ]
    }
   ],
   "source": [
    "clear all\n",
    "% build path\n",
    "addpath(genpath('../Misc'))\n",
    "build_path  niak psom zooniverse_qc  \n",
    "\n",
    "# Set path\n",
    "path_root = '/home/yassinebha/Drive/QC_zooniverse/';\n",
    "#path_root = '/media/yassinebha/database29/Drive/QC_zooniverse/';\n",
    "path_outline = [path_root 'template_layout/brain_outline_bold/'];\n",
    "path_layout = [path_root 'template_layout/layout/'];"
   ]
  },
  {
   "cell_type": "code",
   "execution_count": 8,
   "metadata": {
    "collapsed": false
   },
   "outputs": [],
   "source": [
    "in.source = [path_root 'template_layout/test_data/HC0040013/anat_HC0040013_nuc_stereonl.nii.gz'];\n",
    "out = [path_root 'template_layout/test_data/HC0040013/HC0040013_test_inv.nii.gz'];\n",
    "opt.only_mask = false;\n",
    "[in,out,opt] = zoo_brick_invert_contrast(in,out,opt);"
   ]
  },
  {
   "cell_type": "code",
   "execution_count": 9,
   "metadata": {
    "collapsed": false
   },
   "outputs": [
    {
     "name": "stdout",
     "output_type": "stream",
     "text": [
      "out = /home/yassinebha/Drive/QC_zooniverse/template_layout/test_data/HC0040013/HC0040013_test_inv.nii.gz\r\n"
     ]
    }
   ],
   "source": [
    "out"
   ]
  },
  {
   "cell_type": "code",
   "execution_count": null,
   "metadata": {
    "collapsed": true
   },
   "outputs": [],
   "source": []
  },
  {
   "cell_type": "code",
   "execution_count": null,
   "metadata": {
    "collapsed": true
   },
   "outputs": [],
   "source": []
  },
  {
   "cell_type": "code",
   "execution_count": null,
   "metadata": {
    "collapsed": true
   },
   "outputs": [],
   "source": []
  }
 ],
 "metadata": {
  "kernelspec": {
   "display_name": "Octave",
   "language": "octave",
   "name": "octave"
  },
  "language_info": {
   "file_extension": ".m",
   "help_links": [
    {
     "text": "MetaKernel Magics",
     "url": "https://github.com/calysto/metakernel/blob/master/metakernel/magics/README.md"
    }
   ],
   "mimetype": "text/x-octave",
   "name": "octave",
   "version": "0.19.17"
  }
 },
 "nbformat": 4,
 "nbformat_minor": 2
}
