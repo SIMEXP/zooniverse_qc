{
 "cells": [
  {
   "cell_type": "markdown",
   "metadata": {},
   "source": [
    "## The goal of this XP:\n",
    "\n",
    "- Build the anatomical and the functional montage images without layout \n",
    "\n",
    "- Generate a binary mask combining outline functional mask and the subject's bold mask \n",
    "\n",
    "- in the functional iamges, replace the mask by pixels from the anatomical image\n"
   ]
  },
  {
   "cell_type": "code",
   "execution_count": 1,
   "metadata": {},
   "outputs": [
    {
     "name": "stdout",
     "output_type": "stream",
     "text": [
      "path_work = /sandbox/home/git/zooniverse_qc\n",
      "Adding library niak to the search path.\n",
      "\n",
      "Adding library psom to the search path.\n",
      "\n",
      "Adding library zooniverse_qc to the search path.\n",
      "\n"
     ]
    }
   ],
   "source": [
    "path_work = pwd\n",
    "cd\n",
    "build_path  niak psom zooniverse_qc  \n",
    "cd(path_work)"
   ]
  },
  {
   "cell_type": "code",
   "execution_count": 2,
   "metadata": {},
   "outputs": [
    {
     "name": "stdout",
     "output_type": "stream",
     "text": [
      "subject = HC0040013\n"
     ]
    }
   ],
   "source": [
    "% Set parameters\n",
    "niak_gb_vars\n",
    "path_root = [pwd filesep];\n",
    "#path_root = '/media/yassinebha/database29/Drive/QC_zooniverse/';\n",
    "subject = 'HC0040013'"
   ]
  },
  {
   "cell_type": "markdown",
   "metadata": {},
   "source": [
    "# Make anatomical and Functional montage images "
   ]
  },
  {
   "cell_type": "markdown",
   "metadata": {},
   "source": [
    "### ANAT"
   ]
  },
  {
   "cell_type": "code",
   "execution_count": null,
   "metadata": {},
   "outputs": [],
   "source": [
    "# anat subject vol \n",
    "niak_gb_vars\n",
    "[hdr,vol] = niak_read_vol([path_root 'template_layout/test_data/' subject '/anat_' subject '_nuc_stereonl.nii.gz']);\n",
    "[hdr,mask] = niak_read_vol([ GB_NIAK.path_niak filesep 'template' filesep 'mni-models_icbm152-nl-2009-1.0' filesep ...\n",
    "'mni_icbm152_t1_tal_nlin_asym_09a_headmask.mnc.gz']);\n",
    "opt.type_color = 'gray';\n",
    "niak_montage(vol,opt)"
   ]
  },
  {
   "cell_type": "code",
   "execution_count": null,
   "metadata": {},
   "outputs": [],
   "source": [
    "% Create montage for the image\n",
    "clear jin jout jopt\n",
    "% Input\n",
    "jin.source = [path_root 'template_layout/test_data/' subject '/anat_' subject '_nuc_stereonl.nii.gz'];\n",
    "jin.target = [ GB_NIAK.path_niak filesep 'template' filesep 'mni-models_icbm152-nl-2009-1.0' filesep ...\n",
    "'mni_icbm152_t1_tal_nlin_sym_09a.mnc.gz'];\n",
    "\n",
    "% Output\n",
    "jout = [path_root 'template_layout/test_data/' subject '/anat_' subject '_nuc_stereonl.png'];\n",
    "\n",
    "% Options\n",
    "jopt.colormap = 'gray';\n",
    "jopt.colorbar = false;\n",
    "jopt.limits = 'adaptative';\n",
    "jopt.flag_decoration = false;\n",
    "jopt.padding = false;\n",
    "jopt.coord =[-30 , -65 , -6 ; \n",
    "             -8 , -25 ,  10 ;  \n",
    "             30 ,  45 ,  60];\n",
    "             \n",
    "% The generation of the montage itself\n",
    "niak_brick_vol2img(jin,jout,jopt);\n",
    "imshow(jout)"
   ]
  },
  {
   "cell_type": "markdown",
   "metadata": {},
   "source": [
    "## FUNC"
   ]
  },
  {
   "cell_type": "code",
   "execution_count": null,
   "metadata": {},
   "outputs": [],
   "source": [
    "# Alpply non uniformity corretion first\n",
    "clear  files_in files_out opt\n",
    "files_in.vol = [path_root 'template_layout/test_data/' subject '/func_' subject '_mean_stereonl.nii.gz'];\n",
    "files_in.mask = [path_root 'template_layout/test_data/' subject '/func_mask_group_stereonl.nii.gz'];\n",
    "files_out.vol_nu = '';\n",
    "files_out.vol_imp = '';\n",
    "opt.folder_out =  [path_root 'template_layout/test_data/' subject '/'];\n",
    "[files_in,files_out,opt] = niak_brick_nu_correct(files_in,files_out,opt);"
   ]
  },
  {
   "cell_type": "code",
   "execution_count": null,
   "metadata": {},
   "outputs": [],
   "source": [
    "# Dispaly before correction image\n",
    "[hdr,vol] = niak_read_vol(files_out.vol_nu);\n",
    "[hdr,vol_raw] = niak_read_vol(files_in.vol);\n",
    "opt.type_color = 'gray';\n",
    "niak_montage(vol_raw,opt)"
   ]
  },
  {
   "cell_type": "code",
   "execution_count": null,
   "metadata": {},
   "outputs": [],
   "source": [
    "# After correction\n",
    "niak_montage(vol,opt)"
   ]
  },
  {
   "cell_type": "code",
   "execution_count": null,
   "metadata": {},
   "outputs": [],
   "source": [
    "%% Invert contrast\n",
    "[hdr,vol] = niak_read_vol(files_out.vol_nu);\n",
    "[hdr,mask] = niak_read_vol(files_in.mask);\n",
    "param.perc_min = 0.15;\n",
    "param.perc_max = 0.99;\n",
    "\n",
    "mask = mask>0;\n",
    "val = sort(vol(mask),'ascend');\n",
    "vmin = val(round(param.perc_min*length(val)));\n",
    "vmax = val(round(param.perc_max*length(val)));\n",
    "vol(vol<vmin) = vmin;\n",
    "vol(vol>vmax) = vmax;\n",
    "vol(mask) = (vol(mask) - vmin)/(vmax-vmin);\n",
    "vol(~mask) = 0;\n",
    "vol = 1 - vol;\n",
    "vol = (abs(vol));\n",
    "hdr.file_name =  [path_root 'template_layout/test_data/' subject '/func_' subject '_mean_stereonl_nu_inv.nii.gz'];\n",
    "niak_write_vol(hdr,vol);\n",
    "\n",
    "opt.type_color = 'gray';\n",
    "niak_montage(vol,opt)"
   ]
  },
  {
   "cell_type": "code",
   "execution_count": null,
   "metadata": {},
   "outputs": [],
   "source": [
    "%% Create montage for the image\n",
    "clear jin jout jopt\n",
    "% Input\n",
    "jin.source = [path_root 'template_layout/test_data/' subject '/func_' subject '_mean_stereonl_nu_inv.nii.gz'];\n",
    "jin.target = [ GB_NIAK.path_niak filesep 'template' filesep 'mni-models_icbm152-nl-2009-1.0' filesep ...\n",
    "'mni_icbm152_t1_tal_nlin_sym_09a.mnc.gz'];\n",
    "\n",
    "% Output\n",
    "jout = [path_root 'template_layout/test_data/' subject '/func_' subject '_mean_stereonl_nu_inv.png'];\n",
    "\n",
    "% Options\n",
    "jopt.colormap = 'gray';\n",
    "jopt.colorbar = false;\n",
    "jopt.limits = 'adaptative';\n",
    "jopt.flag_decoration = false;\n",
    "jopt.padding = true;\n",
    "jopt.coord =[-30 , -65 , -6 ; \n",
    "             -8 , -25 ,  10 ;  \n",
    "             30 ,  45 ,  60];\n",
    "             \n",
    "% The generation of the montage itself\n",
    "niak_brick_vol2img(jin,jout,jopt);\n",
    "imshow(jout)"
   ]
  },
  {
   "cell_type": "markdown",
   "metadata": {},
   "source": [
    "# Mask"
   ]
  },
  {
   "cell_type": "code",
   "execution_count": 3,
   "metadata": {},
   "outputs": [],
   "source": [
    "%% Create montage forom the mask\n",
    "clear jin jout jopt\n",
    "% Input\n",
    "jin.source = [path_root 'template_layout/test_data/' subject '/func_mask_group_stereonl.nii.gz'];\n",
    "jin.target = [ GB_NIAK.path_niak filesep 'template' filesep 'mni-models_icbm152-nl-2009-1.0' filesep ...\n",
    "'mni_icbm152_t1_tal_nlin_sym_09a.mnc.gz'];\n",
    "\n",
    "% Output\n",
    "jout = [path_root 'template_layout/test_data/' subject '/func_mask_group_stereonl.png'];\n",
    "\n",
    "% Options\n",
    "jopt.colormap = 'gray';\n",
    "jopt.colorbar = false;\n",
    "jopt.limits = 'adaptative';\n",
    "jopt.flag_decoration = false;\n",
    "jopt.padding = false;\n",
    "jopt.coord =[-30 , -65 , -6 ; \n",
    "             -8 , -25 ,  10 ;  \n",
    "             30 ,  45 ,  60];"
   ]
  },
  {
   "cell_type": "code",
   "execution_count": null,
   "metadata": {},
   "outputs": [],
   "source": [
    "             \n",
    "% The generation of the montage itself\n",
    "niak_brick_vol2img(jin,jout,jopt);"
   ]
  },
  {
   "cell_type": "code",
   "execution_count": 4,
   "metadata": {},
   "outputs": [
    {
     "name": "stdout",
     "output_type": "stream",
     "text": [
      "warning: your version of GraphicsMagick limits images to 8 bits per pixel\n",
      "warning: called from\n",
      "    imformats>default_formats at line 256 column 11\n",
      "    imformats at line 79 column 3\n",
      "    imageIO at line 106 column 11\n",
      "    imread at line 106 column 30\n"
     ]
    }
   ],
   "source": [
    "img  = imread(jout);\n",
    "img= img / max(img(:));"
   ]
  },
  {
   "cell_type": "markdown",
   "metadata": {},
   "source": [
    "# Merge func and anat "
   ]
  },
  {
   "cell_type": "code",
   "execution_count": 5,
   "metadata": {},
   "outputs": [],
   "source": [
    "# read images\n",
    "img1 = imread([path_root 'template_layout/test_data/' subject '/func_' subject '_mean_stereonl_nu_inv.png']);\n",
    "img2 = imread([path_root 'template_layout/test_data/' subject '/anat_' subject '_nuc_stereonl.png']);\n",
    "img3 = img;"
   ]
  },
  {
   "cell_type": "code",
   "execution_count": null,
   "metadata": {},
   "outputs": [],
   "source": [
    "# buid a mask\n",
    "img1_i = img1; % Generate intensity\n",
    "img1_i = img1_i / max(img1_i(:)); % Express intensity as a fraction of the max intensity\n",
    "mask = img1_i >=1;\n",
    "mask_all = img1_i & ~img;\n",
    "imshow(mask_all)"
   ]
  },
  {
   "cell_type": "code",
   "execution_count": null,
   "metadata": {},
   "outputs": [],
   "source": [
    "mask_all = repmat(mask_all,[1 1 3]);\n",
    "img12 = img2;\n",
    "img12(~mask_all) = img1(~mask_all);\n",
    "imshow(img12)"
   ]
  },
  {
   "cell_type": "code",
   "execution_count": null,
   "metadata": {
    "collapsed": true
   },
   "outputs": [],
   "source": [
    "# sebastian method\n",
    "#x = size(img1,1);\n",
    "#y = size(img1,2);\n",
    "#mask = zeros(x,y);\n",
    "#for xi=1:x\n",
    "#    for yi=1:y\n",
    "#        mask(xi,yi) = all(img1(xi, yi, :)==255);\n",
    "#    end\n",
    "#end\n",
    "\n",
    "#mask_3d = repmat(logical(mask), 1, 1, 3);\n",
    "#img_good = img2;\n",
    "#img_good(~mask_3d) = img1(~mask_3d);"
   ]
  },
  {
   "cell_type": "code",
   "execution_count": null,
   "metadata": {
    "collapsed": true
   },
   "outputs": [],
   "source": [
    "out=[path_root 'template_layout/test_data/' subject '/func_anat_' subject '_mean_stereonl_nu_inv.png'];\n",
    "imwrite(img12,out,'quality',90);"
   ]
  },
  {
   "cell_type": "markdown",
   "metadata": {
    "collapsed": true
   },
   "source": [
    "## Add outlines"
   ]
  },
  {
   "cell_type": "code",
   "execution_count": null,
   "metadata": {},
   "outputs": [],
   "source": [
    "%% Add overlay \n",
    "clear jin jout jopt\n",
    "jin.background =[path_root 'template_layout/test_data/' subject '/func_anat_' subject '_mean_stereonl_nu_inv.png'];\n",
    "jin.overlay = [path_root 'template_layout/layout/mask_layout/mask_all_layout_v2_smoothed.png'];\n",
    "jout = [path_root 'template_layout/test_data/' subject '/func_anat_' subject '_mean_stereonl_nu_inv_outline.png'];\n",
    "jopt.transparency = 0.7 ;\n",
    "jopt.threshold = 0.9;\n",
    "niak_brick_add_overlay(jin,jout,jopt);\n",
    "imshow(jout)"
   ]
  },
  {
   "cell_type": "code",
   "execution_count": null,
   "metadata": {},
   "outputs": [],
   "source": [
    "%% Add overlay functional-layout to anat subject \n",
    "clear jin jout jopt\n",
    "param.transparency = 0.7;\n",
    "jin.background =  [path_root 'template_layout/test_data/' subject '/anat_' subject '_nuc_stereonl.png'];\n",
    "jin.overlay = [path_root 'template_layout/layout/mask_layout/mask_all_layout_v2_smoothed.png'];\n",
    "jout = [path_root 'template_layout/test_data/' subject '/anat_' subject '_nuc_stereonl_func_outline.png'];\n",
    "jopt.transparency = param.transparency;\n",
    "jopt.threshold = 0.9;\n",
    "niak_brick_add_overlay(jin,jout,jopt);\n",
    "imshow(jout)"
   ]
  },
  {
   "cell_type": "markdown",
   "metadata": {},
   "source": [
    "## generate gif animation"
   ]
  },
  {
   "cell_type": "code",
   "execution_count": null,
   "metadata": {},
   "outputs": [],
   "source": [
    "# generate gif\n",
    "PATH = ['/home/yassinebha/Drive/QC_zooniverse/template_layout/test_data/' subject filesep];\n",
    "command = ['convert '  PATH  'func_anat_' subject '_mean_stereonl_nu_inv_outline.png '  PATH ...\n",
    "'anat_' subject '_nuc_stereonl_func_outline.png '   PATH  'func_anat_' subject '_mean_stereonl_nu_inv_outline.png  -delay 1 -morph 4 ' ...\n",
    "PATH  'morph_' subject '_xp.gif']"
   ]
  },
  {
   "cell_type": "code",
   "execution_count": null,
   "metadata": {},
   "outputs": [],
   "source": [
    "system(command)"
   ]
  },
  {
   "cell_type": "markdown",
   "metadata": {},
   "source": [
    "## XP result"
   ]
  },
  {
   "cell_type": "markdown",
   "metadata": {},
   "source": [
    "\n",
    "\n",
    "**Pierre's comment:**\n",
    "\n",
    "\n",
    "\n",
    "**conclusion**\n",
    "\n"
   ]
  },
  {
   "cell_type": "code",
   "execution_count": null,
   "metadata": {
    "collapsed": true
   },
   "outputs": [],
   "source": []
  }
 ],
 "metadata": {
  "kernelspec": {
   "display_name": "Octave",
   "language": "octave",
   "name": "octave"
  },
  "language_info": {
   "file_extension": ".m",
   "help_links": [
    {
     "text": "GNU Octave",
     "url": "https://www.gnu.org/software/octave/support.html"
    },
    {
     "text": "Octave Kernel",
     "url": "https://github.com/Calysto/octave_kernel"
    },
    {
     "text": "MetaKernel Magics",
     "url": "https://github.com/calysto/metakernel/blob/master/metakernel/magics/README.md"
    }
   ],
   "mimetype": "text/x-octave",
   "name": "octave",
   "version": "4.0.2"
  }
 },
 "nbformat": 4,
 "nbformat_minor": 2
}
