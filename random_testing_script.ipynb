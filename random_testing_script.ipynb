{
 "cells": [
  {
   "cell_type": "code",
   "execution_count": 1,
   "metadata": {
    "collapsed": true,
    "deletable": true,
    "editable": true
   },
   "outputs": [],
   "source": [
    "import os\n",
    "import numpy as np\n",
    "import pandas as pd\n",
    "import nibabel as nib"
   ]
  },
  {
   "cell_type": "code",
   "execution_count": 2,
   "metadata": {
    "collapsed": true,
    "deletable": true,
    "editable": true
   },
   "outputs": [],
   "source": [
    "# load good stuff\n",
    "%matplotlib inline\n",
    "%load_ext oct2py.ipython"
   ]
  },
  {
   "cell_type": "code",
   "execution_count": 3,
   "metadata": {
    "collapsed": false,
    "deletable": true,
    "editable": true
   },
   "outputs": [
    {
     "data": {
      "text/plain": [
       "Adding library hcp to the search path."
      ]
     },
     "metadata": {},
     "output_type": "display_data"
    },
    {
     "data": {
      "text/plain": []
     },
     "metadata": {},
     "output_type": "display_data"
    },
    {
     "data": {
      "text/plain": [
       "Adding library niak to the search path."
      ]
     },
     "metadata": {},
     "output_type": "display_data"
    },
    {
     "data": {
      "text/plain": []
     },
     "metadata": {},
     "output_type": "display_data"
    },
    {
     "data": {
      "text/plain": [
       "Adding library psom to the search path."
      ]
     },
     "metadata": {},
     "output_type": "display_data"
    },
    {
     "data": {
      "text/plain": []
     },
     "metadata": {},
     "output_type": "display_data"
    }
   ],
   "source": [
    "# Add niak hcp and psomm to oactve path\n",
    "%octave addpath(genpath('~/git/Misc'));\n",
    "%octave build_path hcp niak psom"
   ]
  },
  {
   "cell_type": "code",
   "execution_count": 4,
   "metadata": {
    "collapsed": false,
    "deletable": true,
    "editable": true
   },
   "outputs": [],
   "source": [
    "# Set path\n",
    "path_root = '/home/yassinebha/Drive/QC_zooniverse/'\n",
    "#path_root = '/media/yassinebha/database29/Drive/QC_zooniverse/'\n",
    "path_outline = os.path.join(path_root ,'template_layout/brain_outline_bold/')\n",
    "path_layout = os.path.join(path_root ,'template_layout/layout/')\n",
    "%octave_push  path_root path_outline path_layout"
   ]
  },
  {
   "cell_type": "code",
   "execution_count": 5,
   "metadata": {
    "collapsed": false,
    "deletable": true,
    "editable": true
   },
   "outputs": [],
   "source": [
    "%%octave\n",
    "# invert mask func\n",
    "in.source = [path_root 'template_layout/test_data/HC0040013/func_HC0040013_mean_stereonl.nii.gz'];\n",
    "out = [path_root 'template_layout/test_data/HC0040013/HC0040013_test_inv_func.nii.gz'];\n",
    "opt.only_mask = false;\n",
    "[in,out,opt] = zoo_brick_invert_contrast(in,out,opt);"
   ]
  },
  {
   "cell_type": "code",
   "execution_count": 6,
   "metadata": {
    "collapsed": false,
    "deletable": true,
    "editable": true
   },
   "outputs": [],
   "source": [
    "%%octave\n",
    "# invert mask anat\n",
    "in.source = [path_root 'template_layout/test_data/HC0040013/anat_HC0040013_nuc_stereonl.nii.gz'];\n",
    "out = [path_root 'template_layout/test_data/HC0040013/HC0040013_test_inv_anat.nii.gz'];\n",
    "opt.only_mask = true;\n",
    "[in,out,opt] = zoo_brick_invert_contrast(in,out,opt);"
   ]
  },
  {
   "cell_type": "code",
   "execution_count": 7,
   "metadata": {
    "collapsed": false
   },
   "outputs": [
    {
     "data": {
      "text/plain": [
       "ans = /home/yassinebha/Drive/QC_zooniverse/template_layout/layout/layout_anat.nii.gz"
      ]
     },
     "metadata": {},
     "output_type": "display_data"
    },
    {
     "data": {
      "text/plain": [
       "'/home/yassinebha/Drive/QC_zooniverse/template_layout/layout/layout_anat.nii.gz'"
      ]
     },
     "execution_count": 7,
     "metadata": {},
     "output_type": "execute_result"
    }
   ],
   "source": [
    "%octave [path_layout 'layout_anat.nii.gz']"
   ]
  },
  {
   "cell_type": "code",
   "execution_count": 8,
   "metadata": {
    "collapsed": false,
    "deletable": true,
    "editable": true
   },
   "outputs": [
    {
     "data": {
      "text/plain": []
     },
     "metadata": {},
     "output_type": "display_data"
    },
    {
     "data": {
      "text/plain": [
       "Bad argument \"/tmp/niak_tmp_381204710_vol.mnc\"."
      ]
     },
     "metadata": {},
     "output_type": "display_data"
    },
    {
     "data": {
      "text/plain": []
     },
     "metadata": {},
     "output_type": "display_data"
    },
    {
     "data": {
      "text/plain": [
       "Usage: rawtominc [<options>] <output.mnc> [[<size4>] <size3>] <size2> <size1>"
      ]
     },
     "metadata": {},
     "output_type": "display_data"
    },
    {
     "data": {
      "text/plain": [
       "       rawtominc [-help]"
      ]
     },
     "metadata": {},
     "output_type": "display_data"
    },
    {
     "data": {
      "text/plain": []
     },
     "metadata": {},
     "output_type": "display_data"
    },
    {
     "data": {
      "text/plain": [
       "ncopen: filename \"/tmp/niak_tmp_381204710_vol.mnc\": Not a netCDF file"
      ]
     },
     "metadata": {},
     "output_type": "display_data"
    },
    {
     "data": {
      "text/plain": [
       "miopen: MINC package entry point"
      ]
     },
     "metadata": {},
     "output_type": "display_data"
    },
    {
     "data": {
      "text/plain": [
       "ncopen: filename \"/tmp/niak_tmp_381204710_vol.mnc\": Not a netCDF file"
      ]
     },
     "metadata": {},
     "output_type": "display_data"
    },
    {
     "data": {
      "text/plain": [
       "miopen: MINC package entry point"
      ]
     },
     "metadata": {},
     "output_type": "display_data"
    },
    {
     "data": {
      "text/plain": [
       "ncopen: filename \"/tmp/niak_tmp_381204710_vol.mnc\": Not a netCDF file"
      ]
     },
     "metadata": {},
     "output_type": "display_data"
    },
    {
     "data": {
      "text/plain": [
       "miopen: MINC package entry point"
      ]
     },
     "metadata": {},
     "output_type": "display_data"
    },
    {
     "data": {
      "text/plain": [
       "ncopen: filename \"/tmp/niak_tmp_381204710_vol.mnc\": Not a netCDF file"
      ]
     },
     "metadata": {},
     "output_type": "display_data"
    },
    {
     "data": {
      "text/plain": [
       "miopen: MINC package entry point"
      ]
     },
     "metadata": {},
     "output_type": "display_data"
    },
    {
     "data": {
      "text/plain": [
       "(from miopen): Unable to open file '/tmp/niak_tmp_381204710_vol.mnc'"
      ]
     },
     "metadata": {},
     "output_type": "display_data"
    },
    {
     "data": {
      "text/plain": [
       "Error: opening MINC file \"/tmp/niak_tmp_381204710_vol.mnc\"."
      ]
     },
     "metadata": {},
     "output_type": "display_data"
    },
    {
     "data": {
      "text/plain": [
       "warning: niak_morph: some elements in list of return values are undefined"
      ]
     },
     "metadata": {},
     "output_type": "display_data"
    },
    {
     "data": {
      "text/plain": []
     },
     "metadata": {},
     "output_type": "display_data"
    },
    {
     "data": {
      "text/plain": [
       "Bad argument \"/tmp/niak_tmp_900845551_vol.mnc\"."
      ]
     },
     "metadata": {},
     "output_type": "display_data"
    },
    {
     "data": {
      "text/plain": []
     },
     "metadata": {},
     "output_type": "display_data"
    },
    {
     "data": {
      "text/plain": [
       "Usage: rawtominc [<options>] <output.mnc> [[<size4>] <size3>] <size2> <size1>"
      ]
     },
     "metadata": {},
     "output_type": "display_data"
    },
    {
     "data": {
      "text/plain": [
       "       rawtominc [-help]"
      ]
     },
     "metadata": {},
     "output_type": "display_data"
    },
    {
     "data": {
      "text/plain": []
     },
     "metadata": {},
     "output_type": "display_data"
    },
    {
     "data": {
      "text/plain": [
       "ncopen: filename \"/tmp/niak_tmp_900845551_vol.mnc\": Not a netCDF file"
      ]
     },
     "metadata": {},
     "output_type": "display_data"
    },
    {
     "data": {
      "text/plain": [
       "miopen: MINC package entry point"
      ]
     },
     "metadata": {},
     "output_type": "display_data"
    },
    {
     "data": {
      "text/plain": [
       "ncopen: filename \"/tmp/niak_tmp_900845551_vol.mnc\": Not a netCDF file"
      ]
     },
     "metadata": {},
     "output_type": "display_data"
    },
    {
     "data": {
      "text/plain": [
       "miopen: MINC package entry point"
      ]
     },
     "metadata": {},
     "output_type": "display_data"
    },
    {
     "data": {
      "text/plain": [
       "ncopen: filename \"/tmp/niak_tmp_900845551_vol.mnc\": Not a netCDF file"
      ]
     },
     "metadata": {},
     "output_type": "display_data"
    },
    {
     "data": {
      "text/plain": [
       "miopen: MINC package entry point"
      ]
     },
     "metadata": {},
     "output_type": "display_data"
    },
    {
     "data": {
      "text/plain": [
       "ncopen: filename \"/tmp/niak_tmp_900845551_vol.mnc\": Not a netCDF file"
      ]
     },
     "metadata": {},
     "output_type": "display_data"
    },
    {
     "data": {
      "text/plain": [
       "miopen: MINC package entry point"
      ]
     },
     "metadata": {},
     "output_type": "display_data"
    },
    {
     "data": {
      "text/plain": [
       "(from miopen): Unable to open file '/tmp/niak_tmp_900845551_vol.mnc'"
      ]
     },
     "metadata": {},
     "output_type": "display_data"
    },
    {
     "data": {
      "text/plain": [
       "Error: opening MINC file \"/tmp/niak_tmp_900845551_vol.mnc\"."
      ]
     },
     "metadata": {},
     "output_type": "display_data"
    },
    {
     "data": {
      "text/plain": [
       "warning: niak_morph: some elements in list of return values are undefined"
      ]
     },
     "metadata": {},
     "output_type": "display_data"
    },
    {
     "ename": "Oct2PyError",
     "evalue": "Octave evaluation error:\nerror: mx_el_or: nonconformant arguments (op1 is 197x233x189, op2 is 0x0)\nerror: called from:\n    zoo_brick_outline at line 106, column 11",
     "output_type": "error",
     "traceback": [
      "\u001b[0;31m---------------------------------------------------------------------------\u001b[0m",
      "\u001b[0;31mOct2PyError\u001b[0m                               Traceback (most recent call last)",
      "\u001b[0;32m<ipython-input-8-262069c0a594>\u001b[0m in \u001b[0;36m<module>\u001b[0;34m()\u001b[0m\n\u001b[0;32m----> 1\u001b[0;31m \u001b[0mget_ipython\u001b[0m\u001b[0;34m(\u001b[0m\u001b[0;34m)\u001b[0m\u001b[0;34m.\u001b[0m\u001b[0mrun_cell_magic\u001b[0m\u001b[0;34m(\u001b[0m\u001b[0;34m'octave'\u001b[0m\u001b[0;34m,\u001b[0m \u001b[0;34m''\u001b[0m\u001b[0;34m,\u001b[0m \u001b[0;34m\"# anat outline\\nclear in out opt\\nin.layout=[path_layout 'layout_anat.nii.gz'];\\nout = '/home/yassinebha/Drive/QC_zooniverse/template_layout/test_anat_layout.nii.gz';\\n[in,out,opt]= zoo_brick_outline(in,out);\"\u001b[0m\u001b[0;34m)\u001b[0m\u001b[0;34m\u001b[0m\u001b[0m\n\u001b[0m",
      "\u001b[0;32m/usr/local/lib/python3.4/dist-packages/IPython/core/interactiveshell.py\u001b[0m in \u001b[0;36mrun_cell_magic\u001b[0;34m(self, magic_name, line, cell)\u001b[0m\n\u001b[1;32m   2101\u001b[0m             \u001b[0mmagic_arg_s\u001b[0m \u001b[0;34m=\u001b[0m \u001b[0mself\u001b[0m\u001b[0;34m.\u001b[0m\u001b[0mvar_expand\u001b[0m\u001b[0;34m(\u001b[0m\u001b[0mline\u001b[0m\u001b[0;34m,\u001b[0m \u001b[0mstack_depth\u001b[0m\u001b[0;34m)\u001b[0m\u001b[0;34m\u001b[0m\u001b[0m\n\u001b[1;32m   2102\u001b[0m             \u001b[0;32mwith\u001b[0m \u001b[0mself\u001b[0m\u001b[0;34m.\u001b[0m\u001b[0mbuiltin_trap\u001b[0m\u001b[0;34m:\u001b[0m\u001b[0;34m\u001b[0m\u001b[0m\n\u001b[0;32m-> 2103\u001b[0;31m                 \u001b[0mresult\u001b[0m \u001b[0;34m=\u001b[0m \u001b[0mfn\u001b[0m\u001b[0;34m(\u001b[0m\u001b[0mmagic_arg_s\u001b[0m\u001b[0;34m,\u001b[0m \u001b[0mcell\u001b[0m\u001b[0;34m)\u001b[0m\u001b[0;34m\u001b[0m\u001b[0m\n\u001b[0m\u001b[1;32m   2104\u001b[0m             \u001b[0;32mreturn\u001b[0m \u001b[0mresult\u001b[0m\u001b[0;34m\u001b[0m\u001b[0m\n\u001b[1;32m   2105\u001b[0m \u001b[0;34m\u001b[0m\u001b[0m\n",
      "\u001b[0;32m<decorator-gen-127>\u001b[0m in \u001b[0;36moctave\u001b[0;34m(self, line, cell, local_ns)\u001b[0m\n",
      "\u001b[0;32m/usr/local/lib/python3.4/dist-packages/IPython/core/magic.py\u001b[0m in \u001b[0;36m<lambda>\u001b[0;34m(f, *a, **k)\u001b[0m\n\u001b[1;32m    185\u001b[0m     \u001b[0;31m# but it's overkill for just that one bit of state.\u001b[0m\u001b[0;34m\u001b[0m\u001b[0;34m\u001b[0m\u001b[0m\n\u001b[1;32m    186\u001b[0m     \u001b[0;32mdef\u001b[0m \u001b[0mmagic_deco\u001b[0m\u001b[0;34m(\u001b[0m\u001b[0marg\u001b[0m\u001b[0;34m)\u001b[0m\u001b[0;34m:\u001b[0m\u001b[0;34m\u001b[0m\u001b[0m\n\u001b[0;32m--> 187\u001b[0;31m         \u001b[0mcall\u001b[0m \u001b[0;34m=\u001b[0m \u001b[0;32mlambda\u001b[0m \u001b[0mf\u001b[0m\u001b[0;34m,\u001b[0m \u001b[0;34m*\u001b[0m\u001b[0ma\u001b[0m\u001b[0;34m,\u001b[0m \u001b[0;34m**\u001b[0m\u001b[0mk\u001b[0m\u001b[0;34m:\u001b[0m \u001b[0mf\u001b[0m\u001b[0;34m(\u001b[0m\u001b[0;34m*\u001b[0m\u001b[0ma\u001b[0m\u001b[0;34m,\u001b[0m \u001b[0;34m**\u001b[0m\u001b[0mk\u001b[0m\u001b[0;34m)\u001b[0m\u001b[0;34m\u001b[0m\u001b[0m\n\u001b[0m\u001b[1;32m    188\u001b[0m \u001b[0;34m\u001b[0m\u001b[0m\n\u001b[1;32m    189\u001b[0m         \u001b[0;32mif\u001b[0m \u001b[0mcallable\u001b[0m\u001b[0;34m(\u001b[0m\u001b[0marg\u001b[0m\u001b[0;34m)\u001b[0m\u001b[0;34m:\u001b[0m\u001b[0;34m\u001b[0m\u001b[0m\n",
      "\u001b[0;32m/usr/local/lib/python3.4/dist-packages/oct2py/ipython/octavemagic.py\u001b[0m in \u001b[0;36moctave\u001b[0;34m(self, line, cell, local_ns)\u001b[0m\n\u001b[1;32m    254\u001b[0m             \u001b[0mplot_dir\u001b[0m\u001b[0;34m=\u001b[0m\u001b[0mplot_dir\u001b[0m\u001b[0;34m,\u001b[0m \u001b[0mplot_width\u001b[0m\u001b[0;34m=\u001b[0m\u001b[0mwidth\u001b[0m\u001b[0;34m,\u001b[0m \u001b[0mplot_height\u001b[0m\u001b[0;34m=\u001b[0m\u001b[0mheight\u001b[0m\u001b[0;34m,\u001b[0m\u001b[0;34m\u001b[0m\u001b[0m\n\u001b[1;32m    255\u001b[0m             \u001b[0mplot_format\u001b[0m\u001b[0;34m=\u001b[0m\u001b[0margs\u001b[0m\u001b[0;34m.\u001b[0m\u001b[0mformat\u001b[0m\u001b[0;34m,\u001b[0m \u001b[0mplot_name\u001b[0m\u001b[0;34m=\u001b[0m\u001b[0;34m'__ipy_oct_fig_'\u001b[0m\u001b[0;34m,\u001b[0m\u001b[0;34m\u001b[0m\u001b[0m\n\u001b[0;32m--> 256\u001b[0;31m             resolution=args.resolution)\n\u001b[0m\u001b[1;32m    257\u001b[0m \u001b[0;34m\u001b[0m\u001b[0m\n\u001b[1;32m    258\u001b[0m         \u001b[0;31m# Publish output\u001b[0m\u001b[0;34m\u001b[0m\u001b[0;34m\u001b[0m\u001b[0m\n",
      "\u001b[0;32m/usr/local/lib/python3.4/dist-packages/oct2py/core.py\u001b[0m in \u001b[0;36meval\u001b[0;34m(self, cmds, verbose, timeout, stream_handler, temp_dir, plot_dir, plot_name, plot_format, plot_width, plot_height, plot_res, nout, **kwargs)\u001b[0m\n\u001b[1;32m    482\u001b[0m                               \u001b[0mplot_name\u001b[0m\u001b[0;34m=\u001b[0m\u001b[0mplot_name\u001b[0m\u001b[0;34m,\u001b[0m \u001b[0mplot_format\u001b[0m\u001b[0;34m=\u001b[0m\u001b[0mplot_format\u001b[0m\u001b[0;34m,\u001b[0m\u001b[0;34m\u001b[0m\u001b[0m\n\u001b[1;32m    483\u001b[0m                               \u001b[0mplot_width\u001b[0m\u001b[0;34m=\u001b[0m\u001b[0mplot_width\u001b[0m\u001b[0;34m,\u001b[0m \u001b[0mplot_height\u001b[0m\u001b[0;34m=\u001b[0m\u001b[0mplot_height\u001b[0m\u001b[0;34m,\u001b[0m\u001b[0;34m\u001b[0m\u001b[0m\n\u001b[0;32m--> 484\u001b[0;31m                               plot_res=plot_res)\n\u001b[0m\u001b[1;32m    485\u001b[0m             \u001b[0;32mif\u001b[0m \u001b[0mresp\u001b[0m \u001b[0;32mis\u001b[0m \u001b[0;32mnot\u001b[0m \u001b[0;32mNone\u001b[0m\u001b[0;34m:\u001b[0m\u001b[0;34m\u001b[0m\u001b[0m\n\u001b[1;32m    486\u001b[0m                 \u001b[0mans\u001b[0m \u001b[0;34m=\u001b[0m \u001b[0mresp\u001b[0m\u001b[0;34m\u001b[0m\u001b[0m\n",
      "\u001b[0;32m/usr/local/lib/python3.4/dist-packages/oct2py/core.py\u001b[0m in \u001b[0;36mfeval\u001b[0;34m(self, func_path, *func_args, **kwargs)\u001b[0m\n\u001b[1;32m    367\u001b[0m         return self._feval(func_name, func_args, dname=dname, nout=nout,\n\u001b[1;32m    368\u001b[0m                           \u001b[0mtimeout\u001b[0m\u001b[0;34m=\u001b[0m\u001b[0mtimeout\u001b[0m\u001b[0;34m,\u001b[0m \u001b[0mstream_handler\u001b[0m\u001b[0;34m=\u001b[0m\u001b[0mstream_handler\u001b[0m\u001b[0;34m,\u001b[0m\u001b[0;34m\u001b[0m\u001b[0m\n\u001b[0;32m--> 369\u001b[0;31m                           store_as=store_as, plot_dir=plot_dir)\n\u001b[0m\u001b[1;32m    370\u001b[0m \u001b[0;34m\u001b[0m\u001b[0m\n\u001b[1;32m    371\u001b[0m     def eval(self, cmds, verbose=True, timeout=None, stream_handler=None,\n",
      "\u001b[0;32m/usr/local/lib/python3.4/dist-packages/oct2py/core.py\u001b[0m in \u001b[0;36m_feval\u001b[0;34m(self, func_name, func_args, dname, nout, timeout, stream_handler, store_as, plot_dir)\u001b[0m\n\u001b[1;32m    566\u001b[0m         \u001b[0;32mif\u001b[0m \u001b[0mresp\u001b[0m\u001b[0;34m[\u001b[0m\u001b[0;34m'err'\u001b[0m\u001b[0;34m]\u001b[0m\u001b[0;34m:\u001b[0m\u001b[0;34m\u001b[0m\u001b[0m\n\u001b[1;32m    567\u001b[0m             \u001b[0mmsg\u001b[0m \u001b[0;34m=\u001b[0m \u001b[0mself\u001b[0m\u001b[0;34m.\u001b[0m\u001b[0m_parse_error\u001b[0m\u001b[0;34m(\u001b[0m\u001b[0mresp\u001b[0m\u001b[0;34m[\u001b[0m\u001b[0;34m'err'\u001b[0m\u001b[0;34m]\u001b[0m\u001b[0;34m)\u001b[0m\u001b[0;34m\u001b[0m\u001b[0m\n\u001b[0;32m--> 568\u001b[0;31m             \u001b[0;32mraise\u001b[0m \u001b[0mOct2PyError\u001b[0m\u001b[0;34m(\u001b[0m\u001b[0mmsg\u001b[0m\u001b[0;34m)\u001b[0m\u001b[0;34m\u001b[0m\u001b[0m\n\u001b[0m\u001b[1;32m    569\u001b[0m \u001b[0;34m\u001b[0m\u001b[0m\n\u001b[1;32m    570\u001b[0m         \u001b[0mresult\u001b[0m \u001b[0;34m=\u001b[0m \u001b[0mresp\u001b[0m\u001b[0;34m[\u001b[0m\u001b[0;34m'result'\u001b[0m\u001b[0;34m]\u001b[0m\u001b[0;34m.\u001b[0m\u001b[0mravel\u001b[0m\u001b[0;34m(\u001b[0m\u001b[0;34m)\u001b[0m\u001b[0;34m.\u001b[0m\u001b[0mtolist\u001b[0m\u001b[0;34m(\u001b[0m\u001b[0;34m)\u001b[0m\u001b[0;34m\u001b[0m\u001b[0m\n",
      "\u001b[0;31mOct2PyError\u001b[0m: Octave evaluation error:\nerror: mx_el_or: nonconformant arguments (op1 is 197x233x189, op2 is 0x0)\nerror: called from:\n    zoo_brick_outline at line 106, column 11"
     ]
    }
   ],
   "source": [
    "%%octave\n",
    "# anat outline\n",
    "clear in out opt\n",
    "in.layout=[path_layout 'layout_anat.nii.gz'];\n",
    "out = '/home/yassinebha/Drive/QC_zooniverse/template_layout/test_anat_layout.nii.gz';\n",
    "[in,out,opt]= zoo_brick_outline(in,out);\n"
   ]
  },
  {
   "cell_type": "code",
   "execution_count": 31,
   "metadata": {
    "collapsed": false,
    "deletable": true,
    "editable": true
   },
   "outputs": [
    {
     "name": "stdout",
     "output_type": "stream",
     "text": [
      "Transforming slices:.............................................................................................................................................................................................Done\r\n"
     ]
    }
   ],
   "source": [
    "%%octave\n",
    "#func outline\n",
    "clear in out opt\n",
    "in.layout=[path_layout 'layout.nii.gz'];\n",
    "in.mask_func = [path_outline 'func_mask_average_stereonl.mnc.gz'];\n",
    "opt.modality = 'func';\n",
    "out = '/home/yassinebha/Drive/QC_zooniverse/template_layout/test_func_layout.nii.gz';\n",
    "\n",
    "[in,out,opt]= zoo_brick_outline(in,out,opt);"
   ]
  },
  {
   "cell_type": "code",
   "execution_count": 9,
   "metadata": {
    "collapsed": false,
    "deletable": true,
    "editable": true
   },
   "outputs": [
    {
     "name": "stdout",
     "output_type": "stream",
     "text": [
      "Adding library niak to the search path.\n",
      "\n",
      "Adding library psom to the search path.\n",
      "\n",
      "Adding library zooniverse_qc to the search path.\n",
      "\n",
      "\n",
      "Logs will be stored in /home/yassinebha/Drive/QC_zooniverse/template_layout/test_data/zooqc_adhd200_test5/logs/\n",
      "Generating dependencies ...\n",
      "   Percentage completed :  0 5 10 15 20 25 30 35 40 45 50 55 60 65 70 75 80 85 90 95 100- 0.03 sec\n",
      "Setting up the to-do list ...\n",
      "   I found 7 job(s) to do, and 23 job(s) already completed.\n",
      "Deamon started on 28-May-2017 08:43:25\n",
      "28-May-2017 08:43:25 Starting the pipeline manager...\n",
      "28-May-2017 08:43:25 Starting the garbage collector...\n",
      "28-May-2017 08:43:25 Starting worker number 1...\n",
      "28-May-2017 08:43:25 Starting worker number 2...\n",
      "28-May-2017 08:43:25 Starting worker number 3...\n",
      "28-May-2017 08:43:26 Starting worker number 4...\n",
      "28-May-2017 08:43:26 Starting worker number 5...\n",
      "28-May-2017 08:43:26 Starting worker number 6...\n",
      "28-May-2017 08:43:26 Starting worker number 7...\n",
      "\n",
      "Pipeline started on 28-May-2017 08:43:26\n",
      "user: yassinebha, host: yassinebha-Lemur-Ultra, system: unix\n",
      "************************************************************\n",
      "28-May-2017 08:43:26 Starting worker number 8...\n",
      "28-May-2017 08:43:26 Starting worker number 9...\n",
      "28-May-2017 08:43:26 Starting worker number 10...\n",
      "28-May-2017 08:43:27 bold_nuc_X_0015002                  submitted  (1 run | 0 fail | 23 done | 6 left)\n",
      "28-May-2017 08:43:28 Stopping idle worker 2 (not enough jobs left to do).\n",
      "28-May-2017 08:43:28 Stopping idle worker 3 (not enough jobs left to do).\n",
      "28-May-2017 08:43:28 Stopping idle worker 4 (not enough jobs left to do).\n",
      "28-May-2017 08:43:28 Stopping idle worker 5 (not enough jobs left to do).\n",
      "28-May-2017 08:43:31 bold_nuc_X_0015002                  finished   (0 run | 0 fail | 24 done | 6 left)\n",
      "28-May-2017 08:43:31 bold_inv_X_0015002                  submitted  (1 run | 0 fail | 24 done | 5 left)\n",
      "28-May-2017 08:43:31 Stopping idle worker 6 (not enough jobs left to do).\n",
      "28-May-2017 08:43:32 bold_inv_X_0015002                  finished   (0 run | 0 fail | 25 done | 5 left)\n",
      "28-May-2017 08:43:32 clean_bold_nuc_X_0015002            submitted  (1 run | 0 fail | 25 done | 4 left)\n",
      "28-May-2017 08:43:32 bold_raw_montage_X_0015002          submitted  (2 run | 0 fail | 25 done | 3 left)\n",
      "28-May-2017 08:43:32 Stopping idle worker 8 (not enough jobs left to do).\n",
      "28-May-2017 08:43:32 Stopping idle worker 9 (not enough jobs left to do).\n",
      "28-May-2017 08:43:32 clean_bold_nuc_X_0015002            finished   (1 run | 0 fail | 26 done | 3 left)\n",
      "28-May-2017 08:43:33 bold_raw_montage_X_0015002          finished   (0 run | 0 fail | 27 done | 3 left)\n",
      "28-May-2017 08:43:33 clean_bold_inv_X_0015002            submitted  (1 run | 0 fail | 27 done | 2 left)\n",
      "28-May-2017 08:43:33 bold_X_0015002_overlay              submitted  (2 run | 0 fail | 27 done | 1 left)\n",
      "28-May-2017 08:43:33 Stopping idle worker 10 (not enough jobs left to do).\n",
      "28-May-2017 08:43:33 clean_bold_inv_X_0015002            finished   (1 run | 0 fail | 28 done | 1 left)\n",
      "28-May-2017 08:43:33 bold_X_0015002_overlay              finished   (0 run | 0 fail | 29 done | 1 left)\n",
      "28-May-2017 08:43:33 clean_bold_raw_montage_X_0015002    submitted  (1 run | 0 fail | 29 done | 0 left)\n",
      "28-May-2017 08:43:33 Stopping idle worker 7 (not enough jobs left to do).\n",
      "28-May-2017 08:43:34 clean_bold_raw_montage_X_0015002    finished   (0 run | 0 fail | 30 done | 0 left)\n",
      "28-May-2017 08:43:34 Stopping idle worker 1 (not enough jobs left to do).\n",
      "\n",
      "*******************************************\n",
      "Pipeline terminated on 28-May-2017 08:43:34\n",
      "All jobs have been successfully completed.\n",
      "\n"
     ]
    }
   ],
   "source": [
    "%%octave\n",
    "#local pipeline report test\n",
    "clear all\n",
    "% build path\n",
    "addpath(genpath('../Misc'))\n",
    "build_path  niak psom zooniverse_qc  \n",
    "\n",
    "# Set path\n",
    "path_root = '/home/yassinebha/Drive/QC_zooniverse/';\n",
    "#path_root = '/media/yassinebha/database29/Drive/QC_zooniverse/';\n",
    "path_outline = [path_root 'template_layout/brain_outline_bold/'];\n",
    "path_layout = [path_root 'template_layout/layout/'];\n",
    "\n",
    "%X_0015002 \n",
    "in.ind.anat.X_0015002 = [path_root 'template_layout/test_data/X_0015002/anat_X_0015002_nuc_stereonl.nii.gz'];\n",
    "in.ind.func.X_0015002  = [path_root 'template_layout/test_data/X_0015002/func_X_0015002_mean_stereonl.nii.gz'];\n",
    "\n",
    "in.group.mask_func_group = [path_root 'template_layout/test_data/X_0015002/func_mask_group_stereonl.nii.gz'];\n",
    "in.group.avg_mask_func = [path_root 'template_layout/test_data/X_0015002/func_mask_average_stereonl.nii.gz'];\n",
    "in.template.anat_outline = [path_layout 'layout_anat.nii.gz'];\n",
    "in.template.func_outline = [path_layout 'layout_func.nii.gz']'';\n",
    "\n",
    "%opt.invert_contrast.perc_min = 0.0001;\n",
    "%opt.invert_contrast.perc_max = 0.9999;\n",
    "\n",
    "opt.invert_contrast.perc_min = 0.1;\n",
    "opt.invert_contrast.perc_max = 0.9999;\n",
    "\n",
    "opt.folder_out = [path_root 'template_layout/test_data/zooqc_adhd200_test5'];\n",
    "pipeline = zoo_report_fmri_preprocess(in,opt);\n"
   ]
  },
  {
   "cell_type": "code",
   "execution_count": 10,
   "metadata": {
    "collapsed": false,
    "deletable": true,
    "editable": true,
    "scrolled": false
   },
   "outputs": [
    {
     "name": "stdout",
     "output_type": "stream",
     "text": [
      "Adding library niak to the search path.\n",
      "\n",
      "Adding library psom to the search path.\n",
      "\n",
      "Adding library zooniverse_qc to the search path.\n",
      "\n",
      "\n",
      "Logs will be stored in /home/yassinebha/Drive/QC_zooniverse/template_layout/test_data/zooqc_adhd200_test4/logs/\n",
      "Generating dependencies ...\n",
      "   Percentage completed :  0 5 10 15 20 25 30 35 40 45 50 55 60 65 70 75 80 85 90 95 100- 0.04 sec\n",
      "Setting up the to-do list ...\n",
      "   I found 45 job(s) to do.\n",
      "I could not find any log file. This pipeline has not been started (yet?). Press CTRL-C to cancel.\n",
      "Deamon started on 28-May-2017 10:22:45\n",
      "28-May-2017 10:22:45 Starting the pipeline manager...\n",
      "28-May-2017 10:22:45 Starting the garbage collector...\n",
      "28-May-2017 10:22:45 Starting worker number 1...\n",
      "28-May-2017 10:22:45 Starting worker number 2...\n",
      "28-May-2017 10:22:45 Starting worker number 3...\n",
      "28-May-2017 10:22:45 Starting worker number 4...\n",
      "28-May-2017 10:22:45 Starting worker number 5...\n",
      "28-May-2017 10:22:45 Starting worker number 6...\n",
      "\n",
      "Pipeline started on 28-May-2017 10:22:45\n",
      "user: yassinebha, host: yassinebha-Lemur-Ultra, system: unix\n",
      "************************************************************\n",
      "28-May-2017 10:22:46 Starting worker number 7...\n",
      "28-May-2017 10:22:46 Starting worker number 8...\n",
      "28-May-2017 10:22:46 Starting worker number 9...\n",
      "28-May-2017 10:22:46 Starting worker number 10...\n",
      "28-May-2017 10:22:46 cp_report_templates                 submitted  (1 run | 0 fail | 0 done | 44 left)\n",
      "28-May-2017 10:22:46 outline_anat_template               submitted  (2 run | 0 fail | 0 done | 43 left)\n",
      "28-May-2017 10:22:47 convert2minc                        submitted  (3 run | 0 fail | 0 done | 42 left)\n",
      "28-May-2017 10:22:47 montage_template_anat               submitted  (4 run | 0 fail | 0 done | 41 left)\n",
      "28-May-2017 10:22:47 t1_raw_montage_HC0040013            submitted  (5 run | 0 fail | 0 done | 40 left)\n",
      "28-May-2017 10:22:47 t1_raw_montage_HC0040020            submitted  (6 run | 0 fail | 0 done | 39 left)\n",
      "28-May-2017 10:22:47 bold_nuc_HC0040013                  submitted  (7 run | 0 fail | 0 done | 38 left)\n",
      "28-May-2017 10:22:47 bold_nuc_HC0040020                  submitted  (8 run | 0 fail | 0 done | 37 left)\n",
      "28-May-2017 10:22:47 invert_anat_mask                    submitted  (9 run | 0 fail | 0 done | 36 left)\n",
      "28-May-2017 10:22:47 t1_func_raw_montage_HC0040013       submitted  (10 run | 0 fail | 0 done | 35 left)\n",
      "28-May-2017 10:22:47 t1_func_raw_montage_HC0040020       submitted  (11 run | 0 fail | 0 done | 34 left)\n",
      "28-May-2017 10:22:47 init_report                         submitted  (12 run | 0 fail | 0 done | 33 left)\n",
      "28-May-2017 10:22:48 cp_report_templates                 finished   (11 run | 0 fail | 1 done | 33 left)\n",
      "28-May-2017 10:22:48 init_report                         finished   (10 run | 0 fail | 2 done | 33 left)\n",
      "28-May-2017 10:22:48 anat_manifest                       submitted  (11 run | 0 fail | 2 done | 32 left)\n",
      "28-May-2017 10:22:48 func_manifest                       submitted  (12 run | 0 fail | 2 done | 31 left)\n",
      "28-May-2017 10:22:48 anat_manifest                       finished   (11 run | 0 fail | 3 done | 31 left)\n",
      "28-May-2017 10:22:48 func_manifest                       finished   (10 run | 0 fail | 4 done | 31 left)\n",
      "28-May-2017 10:22:53 t1_func_raw_montage_HC0040013       finished   (9 run | 0 fail | 5 done | 31 left)\n",
      "28-May-2017 10:22:53 t1_func_raw_montage_HC0040020       finished   (8 run | 0 fail | 6 done | 31 left)\n",
      "28-May-2017 10:22:55 bold_nuc_HC0040020                  finished   (7 run | 0 fail | 7 done | 31 left)\n",
      "28-May-2017 10:22:55 bold_inv_HC0040020                  submitted  (8 run | 0 fail | 7 done | 30 left)\n",
      "28-May-2017 10:22:55 bold_inv_HC0040020                  finished   (7 run | 0 fail | 8 done | 30 left)\n",
      "28-May-2017 10:22:55 clean_bold_nuc_HC0040020            submitted  (8 run | 0 fail | 8 done | 29 left)\n",
      "28-May-2017 10:22:55 bold_raw_montage_HC0040020          submitted  (9 run | 0 fail | 8 done | 28 left)\n",
      "28-May-2017 10:22:56 clean_bold_nuc_HC0040020            finished   (8 run | 0 fail | 9 done | 28 left)\n",
      "28-May-2017 10:22:57 bold_raw_montage_HC0040020          finished   (7 run | 0 fail | 10 done | 28 left)\n",
      "28-May-2017 10:22:57 clean_bold_inv_HC0040020            submitted  (8 run | 0 fail | 10 done | 27 left)\n",
      "28-May-2017 10:22:57 bold_nuc_HC0040013                  finished   (7 run | 0 fail | 11 done | 27 left)\n",
      "28-May-2017 10:22:57 clean_bold_inv_HC0040020            finished   (6 run | 0 fail | 12 done | 27 left)\n",
      "28-May-2017 10:22:57 bold_inv_HC0040013                  submitted  (7 run | 0 fail | 12 done | 26 left)\n",
      "28-May-2017 10:22:58 convert2minc                        finished   (6 run | 0 fail | 13 done | 26 left)\n",
      "28-May-2017 10:22:58 t1_raw_montage_HC0040020            finished   (5 run | 0 fail | 14 done | 26 left)\n",
      "28-May-2017 10:22:58 bold_inv_HC0040013                  finished   (4 run | 0 fail | 15 done | 26 left)\n",
      "28-May-2017 10:22:58 outline_func_template               submitted  (5 run | 0 fail | 15 done | 25 left)\n",
      "28-May-2017 10:22:58 clean_bold_nuc_HC0040013            submitted  (6 run | 0 fail | 15 done | 24 left)\n",
      "28-May-2017 10:22:58 bold_raw_montage_HC0040013          submitted  (7 run | 0 fail | 15 done | 23 left)\n",
      "28-May-2017 10:22:59 clean_bold_nuc_HC0040013            finished   (6 run | 0 fail | 16 done | 23 left)\n",
      "28-May-2017 10:23:00 bold_raw_montage_HC0040013          finished   (5 run | 0 fail | 17 done | 23 left)\n",
      "28-May-2017 10:23:00 clean_bold_inv_HC0040013            submitted  (6 run | 0 fail | 17 done | 22 left)\n",
      "28-May-2017 10:23:00 montage_template_anat               finished   (5 run | 0 fail | 18 done | 22 left)\n",
      "28-May-2017 10:23:00 clean_bold_inv_HC0040013            finished   (4 run | 0 fail | 19 done | 22 left)\n",
      "28-May-2017 10:23:01 invert_anat_mask                    finished   (3 run | 0 fail | 20 done | 22 left)\n",
      "28-May-2017 10:23:01 montage_inverted_anat_mask          submitted  (4 run | 0 fail | 20 done | 21 left)\n",
      "28-May-2017 10:23:06 montage_inverted_anat_mask          finished   (3 run | 0 fail | 21 done | 21 left)\n",
      "28-May-2017 10:23:06 clean_invert_anat_mask              submitted  (4 run | 0 fail | 21 done | 20 left)\n",
      "28-May-2017 10:23:06 t1_back_HC0040013_overlay           submitted  (5 run | 0 fail | 21 done | 19 left)\n",
      "28-May-2017 10:23:06 t1_back_HC0040020_overlay           submitted  (6 run | 0 fail | 21 done | 18 left)\n",
      "28-May-2017 10:23:06 clean_invert_anat_mask              finished   (5 run | 0 fail | 22 done | 18 left)\n",
      "28-May-2017 10:23:07 t1_back_HC0040013_overlay           finished   (4 run | 0 fail | 23 done | 18 left)\n",
      "28-May-2017 10:23:07 t1_back_HC0040020_overlay           finished   (3 run | 0 fail | 24 done | 18 left)\n",
      "28-May-2017 10:23:07 clean_t1_func_raw_montage_HC0040013 submitted  (4 run | 0 fail | 24 done | 17 left)\n",
      "28-May-2017 10:23:07 clean_t1_func_raw_montage_HC0040020 submitted  (5 run | 0 fail | 24 done | 16 left)\n",
      "28-May-2017 10:23:07 clean_t1_func_raw_montage_HC0040013 finished   (4 run | 0 fail | 25 done | 16 left)\n",
      "28-May-2017 10:23:07 clean_t1_func_raw_montage_HC0040020 finished   (3 run | 0 fail | 26 done | 16 left)\n",
      "28-May-2017 10:23:08 t1_raw_montage_HC0040013            finished   (2 run | 0 fail | 27 done | 16 left)\n",
      "28-May-2017 10:23:09 outline_anat_template               finished   (1 run | 0 fail | 28 done | 16 left)\n",
      "28-May-2017 10:23:09 montage_anat_outline                submitted  (2 run | 0 fail | 28 done | 15 left)\n",
      "28-May-2017 10:23:11 montage_anat_outline                finished   (1 run | 0 fail | 29 done | 15 left)\n",
      "28-May-2017 10:23:11 overlay_outlline_anat_template      submitted  (2 run | 0 fail | 29 done | 14 left)\n",
      "28-May-2017 10:23:11 t1_HC0040013_overlay                submitted  (3 run | 0 fail | 29 done | 13 left)\n",
      "28-May-2017 10:23:11 t1_HC0040020_overlay                submitted  (4 run | 0 fail | 29 done | 12 left)\n",
      "28-May-2017 10:23:12 overlay_outlline_anat_template      finished   (3 run | 0 fail | 30 done | 12 left)\n",
      "28-May-2017 10:23:12 t1_HC0040013_overlay                finished   (2 run | 0 fail | 31 done | 12 left)\n",
      "28-May-2017 10:23:12 t1_HC0040020_overlay                finished   (1 run | 0 fail | 32 done | 12 left)\n",
      "28-May-2017 10:23:12 clean_t1_raw_montage_HC0040013      submitted  (2 run | 0 fail | 32 done | 11 left)\n",
      "28-May-2017 10:23:12 clean_t1_raw_montage_HC0040020      submitted  (3 run | 0 fail | 32 done | 10 left)\n",
      "28-May-2017 10:23:13 clean_t1_raw_montage_HC0040013      finished   (2 run | 0 fail | 33 done | 10 left)\n",
      "28-May-2017 10:23:13 clean_t1_raw_montage_HC0040020      finished   (1 run | 0 fail | 34 done | 10 left)\n",
      "28-May-2017 10:23:13 outline_func_template               finished   (0 run | 0 fail | 35 done | 10 left)\n",
      "28-May-2017 10:23:13 clean_convert2minc                  submitted  (1 run | 0 fail | 35 done | 9 left)\n",
      "28-May-2017 10:23:13 montage_func_outline                submitted  (2 run | 0 fail | 35 done | 8 left)\n",
      "28-May-2017 10:23:13 Stopping idle worker 3 (not enough jobs left to do).\n",
      "28-May-2017 10:23:13 Stopping idle worker 4 (not enough jobs left to do).\n",
      "28-May-2017 10:23:14 clean_convert2minc                  finished   (1 run | 0 fail | 36 done | 8 left)\n",
      "28-May-2017 10:23:16 montage_func_outline                finished   (0 run | 0 fail | 37 done | 8 left)\n",
      "28-May-2017 10:23:16 bold_HC0040013_overlay              submitted  (1 run | 0 fail | 37 done | 7 left)\n",
      "28-May-2017 10:23:16 bold_HC0040020_overlay              submitted  (2 run | 0 fail | 37 done | 6 left)\n",
      "28-May-2017 10:23:16 t1_back_HC0040013_outline           submitted  (3 run | 0 fail | 37 done | 5 left)\n",
      "28-May-2017 10:23:16 t1_back_HC0040020_outline           submitted  (4 run | 0 fail | 37 done | 4 left)\n",
      "28-May-2017 10:23:16 Stopping idle worker 7 (not enough jobs left to do).\n",
      "28-May-2017 10:23:16 Stopping idle worker 8 (not enough jobs left to do).\n",
      "28-May-2017 10:23:16 Stopping idle worker 9 (not enough jobs left to do).\n",
      "28-May-2017 10:23:16 Stopping idle worker 10 (not enough jobs left to do).\n",
      "28-May-2017 10:23:16 bold_HC0040013_overlay              finished   (3 run | 0 fail | 38 done | 4 left)\n",
      "28-May-2017 10:23:16 bold_HC0040020_overlay              finished   (2 run | 0 fail | 39 done | 4 left)\n",
      "28-May-2017 10:23:16 t1_back_HC0040013_outline           finished   (1 run | 0 fail | 40 done | 4 left)\n",
      "28-May-2017 10:23:16 t1_back_HC0040020_outline           finished   (0 run | 0 fail | 41 done | 4 left)\n",
      "28-May-2017 10:23:16 clean_bold_raw_montage_HC0040013    submitted  (1 run | 0 fail | 41 done | 3 left)\n",
      "28-May-2017 10:23:16 clean_bold_raw_montage_HC0040020    submitted  (2 run | 0 fail | 41 done | 2 left)\n",
      "28-May-2017 10:23:16 clean_t1_back_HC0040013_overlay     submitted  (3 run | 0 fail | 41 done | 1 left)\n",
      "28-May-2017 10:23:16 clean_t1_back_HC0040020_overlay     submitted  (4 run | 0 fail | 41 done | 0 left)\n",
      "Deamon terminated on 28-May-2017 10:23:17\n",
      "\n",
      "28-May-2017 10:23:17 clean_bold_raw_montage_HC0040013    finished   (3 run | 0 fail | 42 done | 0 left)\n",
      "28-May-2017 10:23:17 clean_bold_raw_montage_HC0040020    finished   (2 run | 0 fail | 43 done | 0 left)\n",
      "28-May-2017 10:23:17 clean_t1_back_HC0040013_overlay     finished   (1 run | 0 fail | 44 done | 0 left)\n",
      "28-May-2017 10:23:17 clean_t1_back_HC0040020_overlay     finished   (0 run | 0 fail | 45 done | 0 left)\n",
      "28-May-2017 10:23:17 Stopping idle worker 1 (not enough jobs left to do).\n",
      "28-May-2017 10:23:17 Stopping idle worker 2 (not enough jobs left to do).\n",
      "28-May-2017 10:23:17 Stopping idle worker 5 (not enough jobs left to do).\n",
      "28-May-2017 10:23:17 Stopping idle worker 6 (not enough jobs left to do).\n",
      "\n",
      "*******************************************\n",
      "Pipeline terminated on 28-May-2017 10:23:17\n",
      "All jobs have been successfully completed.\n",
      "\n"
     ]
    }
   ],
   "source": [
    "%%octave\n",
    "#local pipeline report test\n",
    "clear all\n",
    "% build path\n",
    "addpath(genpath('../Misc'))\n",
    "build_path  niak psom zooniverse_qc  \n",
    "\n",
    "# Set path\n",
    "path_root = '/home/yassinebha/Drive/QC_zooniverse/';\n",
    "#path_root = '/media/yassinebha/database29/Drive/QC_zooniverse/';\n",
    "path_outline = [path_root 'template_layout/brain_outline_bold/'];\n",
    "path_layout = [path_root 'template_layout/layout/'];\n",
    "\n",
    "%HC0040013 \n",
    "in.ind.anat.HC0040013 = [path_root 'template_layout/test_data/HC0040013/anat_HC0040013_nuc_stereonl.nii.gz'];\n",
    "in.ind.func.HC0040013  = [path_root 'template_layout/test_data/HC0040013/func_HC0040013_mean_stereonl.nii.gz'];\n",
    "%HC0040020 \n",
    "in.ind.anat.HC0040020 = [path_root 'template_layout/test_data/HC0040020/anat_HC0040020_nuc_stereonl.nii.gz'];\n",
    "in.ind.func.HC0040020  = [path_root 'template_layout/test_data/HC0040020/func_HC0040020_mean_stereonl.nii.gz'];\n",
    "\n",
    "in.group.mask_func_group = [path_root 'template_layout/test_data/HC0040013/func_mask_group_stereonl.nii.gz'];\n",
    "in.group.avg_mask_func = [path_root 'template_layout/test_data/group_coregistration/func_mask_average_stereonl.nii.gz'];\n",
    "in.template.anat_outline = [path_layout 'layout_anat.nii.gz'];\n",
    "in.template.func_outline = [path_layout 'layout_func.nii.gz']'';\n",
    "\n",
    "opt.invert_contrast.perc_min = 0.0001;\n",
    "opt.invert_contrast.perc_max = 0.9999;\n",
    "opt.folder_out = [path_root 'template_layout/test_data/zooqc_adhd200_test4'];\n",
    "pipeline = zoo_report_fmri_preprocess(in,opt);\n"
   ]
  },
  {
   "cell_type": "code",
   "execution_count": 2,
   "metadata": {
    "collapsed": false,
    "deletable": true,
    "editable": true
   },
   "outputs": [
    {
     "name": "stdout",
     "output_type": "stream",
     "text": [
      "\n",
      "\n",
      "***************************************************\n",
      "  Log file of job invert_anat_mask (status failed) \n",
      "***************************************************\n",
      "\n",
      "\n",
      "******************************\n",
      "Log of the (octave) job : invert_anat_mask\n",
      "Started on 28-May-2017 08:18:12\n",
      "User: yassinebha\n",
      "host : yassinebha-Lemur-Ultra\n",
      "system : unix\n",
      "******************************\n",
      "\n",
      "\n",
      "Something went bad ... the job has FAILED !\n",
      "The last error message occured was :\n",
      "Couldn't find any file fitting the description \n",
      "File /home/yassinebha/git/niak/commands/read_write/niak_read_vol.m at line 188\n",
      "File /home/yassinebha/git/psom/psom_run_job.m at line 185\n",
      "File /home/yassinebha/git/psom/psom_run_job.m at line 106\n",
      "File /home/yassinebha/git/psom/psom_worker.m at line 161\n",
      "\n",
      "\n",
      "The output file or directory /home/yassinebha/Drive/QC_zooniverse/template_layout/test_data/zooqc_adhd200_test4/group/anat_group_mask_sym.nii.gz has not been generated!\n",
      "\n",
      "**********************************************\n",
      "28-May-2017 08:18:12 : The job has FAILED\n",
      "Total time used to process the job : 0.05 sec.\n",
      "**********************************************\n"
     ]
    }
   ],
   "source": [
    "%%octave\n",
    "psom_pipeline_visu('/home/yassinebha/Drive/QC_zooniverse/template_layout/test_data/zooqc_adhd200_test4/logs/','log','invert_anat_mask');"
   ]
  },
  {
   "cell_type": "code",
   "execution_count": null,
   "metadata": {
    "collapsed": false,
    "deletable": true,
    "editable": true,
    "scrolled": false
   },
   "outputs": [],
   "source": [
    "#run on guillimin cobree\n",
    "clear all\n",
    "addpath(genpath('/home/yassinebha/git/Misc'))\n",
    "build_path zooniverse_qc\n",
    "\n",
    "path_fmri_preproc ='/home/yassinebha/database/cobre_fmri_preprocess_nii_20160920/';\n",
    "in = zoo_grab_report_preprocess(path_fmri_preproc);\n",
    "in.template.anat_outline = '/home/yassinebha/layout_anat.nii.gz';\n",
    "in.template.func_outline = '/home/yassinebha/layout_func.nii.gz';\n",
    "\n",
    "opt.invert_contrast.perc_min = 0.0001;\n",
    "opt.invert_contrast.perc_max = 0.9999;\n",
    "opt.folder_out =['/gs/project/gsf-624-aa/projects/zooniverse_qc/zooqc_report_cobre_' date];\n",
    "pipeline = zoo_report_fmri_preprocess(in,opt);"
   ]
  },
  {
   "cell_type": "code",
   "execution_count": null,
   "metadata": {
    "collapsed": true,
    "deletable": true,
    "editable": true
   },
   "outputs": [],
   "source": [
    "#run on guillimin adhd\n",
    "clear all\n",
    "addpath(genpath('/home/yassinebha/git/Misc'))\n",
    "build_path zooniverse_qc\n",
    "path_fmri_preproc ='/gs/project/gsf-624-aa/preprocess/adhd200/niak/fmri_preprocess_old/';\n",
    "files_in  = niak_grab_qc_fmri_preprocess(path_fmri_preproc);\n",
    "in.ind.anat = files_in.anat;\n",
    "in.ind.func = files_in.func;\n",
    "in.group.mask_func_group = ['/gs/project/gsf-624-aa/preprocess/adhd200/niak/fmri_preprocess/mask/func_mask_group_stereonl.nii.gz'];\n",
    "in.group.avg_mask_func = ['/gs/project/gsf-624-aa/preprocess/adhd200/niak/fmri_preprocess/mask/func_mask_average_stereonl.nii.gz'];\n",
    "in.template.anat_outline = '/home/yassinebha/layout_anat.nii.gz';\n",
    "in.template.func_outline = '/home/yassinebha/layout_func.nii.gz';\n",
    "\n",
    "opt.invert_contrast.perc_min = 0.1;\n",
    "opt.invert_contrast.perc_max = 0.9999;\n",
    "opt.folder_out =['/gs/project/gsf-624-aa/projects/zooniverse_qc/zooqc_report_adhd_' date];\n",
    "\n",
    "pipeline = zoo_report_fmri_preprocess(in,opt);"
   ]
  },
  {
   "cell_type": "code",
   "execution_count": null,
   "metadata": {
    "collapsed": true,
    "deletable": true,
    "editable": true
   },
   "outputs": [],
   "source": [
    "# search best coordinate or anat an func montage \n",
    "#coord_old =[-30 , -65 , -6 ;\n",
    "#             -8 , -25 ,  10 ;\n",
    "#             30 ,  45 ,  60];          \n",
    "             \n",
    "coord_anat =[-50 , -65 , -6 ;\n",
    "             -8 , -20 ,  13 ;\n",
    "             30 ,  54 ,  58];\n",
    "             \n",
    "coord_func =[-50 , -57 , 5 ;\n",
    "             -8 , -20 ,  19 ;\n",
    "             30 ,  45 ,  58];"
   ]
  }
 ],
 "metadata": {
  "kernelspec": {
   "display_name": "Python 3",
   "language": "python",
   "name": "python3"
  },
  "language_info": {
   "codemirror_mode": {
    "name": "ipython",
    "version": 3
   },
   "file_extension": ".py",
   "mimetype": "text/x-python",
   "name": "python",
   "nbconvert_exporter": "python",
   "pygments_lexer": "ipython3",
   "version": "3.4.3"
  }
 },
 "nbformat": 4,
 "nbformat_minor": 2
}
