{
 "cells": [
  {
   "cell_type": "code",
   "execution_count": 15,
   "metadata": {
    "collapsed": false,
    "deletable": true,
    "editable": true
   },
   "outputs": [
    {
     "name": "stdout",
     "output_type": "stream",
     "text": [
      "Adding library niak to the search path.\n",
      "\n",
      "Adding library psom to the search path.\n",
      "\n",
      "Adding library zooniverse_qc to the search path.\n",
      "\n"
     ]
    }
   ],
   "source": [
    "clear all\n",
    "% build path\n",
    "addpath(genpath('../Misc'))\n",
    "build_path  niak psom zooniverse_qc  \n",
    "\n",
    "# Set path\n",
    "path_root = '/home/yassinebha/Drive/QC_zooniverse/';\n",
    "#path_root = '/media/yassinebha/database29/Drive/QC_zooniverse/';\n",
    "path_outline = [path_root 'template_layout/brain_outline_bold/'];\n",
    "path_layout = [path_root 'template_layout/layout/'];"
   ]
  },
  {
   "cell_type": "code",
   "execution_count": 3,
   "metadata": {
    "collapsed": false,
    "deletable": true,
    "editable": true
   },
   "outputs": [],
   "source": [
    "% invert nask func\n",
    "in.source = [path_root 'template_layout/test_data/HC0040013/func_HC0040013_mean_stereonl.nii.gz'];\n",
    "out = [path_root 'template_layout/test_data/HC0040013/HC0040013_test_inv_func.nii.gz'];\n",
    "opt.only_mask = false;\n",
    "[in,out,opt] = zoo_brick_invert_contrast(in,out,opt);"
   ]
  },
  {
   "cell_type": "code",
   "execution_count": 8,
   "metadata": {
    "collapsed": false,
    "deletable": true,
    "editable": true
   },
   "outputs": [],
   "source": [
    "% invert mask anat\n",
    "in.source = [path_root 'template_layout/test_data/HC0040013/anat_HC0040013_nuc_stereonl.nii.gz'];\n",
    "out = [path_root 'template_layout/test_data/HC0040013/HC0040013_test_inv_anat.nii.gz'];\n",
    "opt.only_mask = true;\n",
    "[in,out,opt] = zoo_brick_invert_contrast(in,out,opt);"
   ]
  },
  {
   "cell_type": "code",
   "execution_count": 9,
   "metadata": {
    "collapsed": false,
    "deletable": true,
    "editable": true
   },
   "outputs": [
    {
     "name": "stdout",
     "output_type": "stream",
     "text": [
      "out = /home/yassinebha/Drive/QC_zooniverse/template_layout/test_data/HC0040013/HC0040013_test_inv_anat.nii.gz\r\n"
     ]
    }
   ],
   "source": [
    "out"
   ]
  },
  {
   "cell_type": "code",
   "execution_count": null,
   "metadata": {
    "collapsed": true,
    "deletable": true,
    "editable": true
   },
   "outputs": [],
   "source": []
  },
  {
   "cell_type": "code",
   "execution_count": 28,
   "metadata": {
    "collapsed": false,
    "deletable": true,
    "editable": true
   },
   "outputs": [],
   "source": [
    "# anat\n",
    "clear in out opt\n",
    "in.layout=[path_layout 'layout.nii.gz'];\n",
    "out = '/home/yassinebha/Drive/QC_zooniverse/template_layout/test_anat_layout.nii.gz';\n",
    "[in,out,opt]= zoo_brick_outline(in,out);\n"
   ]
  },
  {
   "cell_type": "code",
   "execution_count": 31,
   "metadata": {
    "collapsed": false,
    "deletable": true,
    "editable": true
   },
   "outputs": [
    {
     "name": "stdout",
     "output_type": "stream",
     "text": [
      "Transforming slices:.............................................................................................................................................................................................Done\r\n"
     ]
    }
   ],
   "source": [
    "#func\n",
    "clear in out opt\n",
    "in.layout=[path_layout 'layout.nii.gz'];\n",
    "in.mask_func = [path_outline 'func_mask_average_stereonl.mnc.gz'];\n",
    "opt.modality = 'func';\n",
    "out = '/home/yassinebha/Drive/QC_zooniverse/template_layout/test_func_layout.nii.gz';\n",
    "\n",
    "[in,out,opt]= zoo_brick_outline(in,out,opt);"
   ]
  },
  {
   "cell_type": "code",
   "execution_count": 34,
   "metadata": {
    "collapsed": false
   },
   "outputs": [
    {
     "name": "stdout",
     "output_type": "stream",
     "text": [
      "Convert /home/yassinebha/Drive/QC_zooniverse/template_layout/test_data/group_coregistration/func_mask_average_stereonl.nii.gz//func_mask_average_stereonl.nii.gz to /tmp/mask.mnc//func_mask_average_stereonl.mnc\n",
      "cp: cannot stat ‘/home/yassinebha/Drive/QC_zooniverse/template_layout/test_data/group_coregistration/func_mask_average_stereonl.nii.gz//func_mask_average_stereonl.nii.gz’: Not a directory\n",
      "gzip: /tmp/niak_tmp_217818141.nii.gz: No such file or directory\n",
      "** ERROR (nifti_image_read): bad binary header read for file '/tmp/niak_tmp_217818141.nii'\n",
      "  - read 182 of 348 bytes\n",
      "Segmentation fault (core dumped)\n",
      "ans = /home/yassinebha/Drive/QC_zooniverse/template_layout/test_data/group_coregistration/func_mask_average_stereonl.nii.gz/\n"
     ]
    }
   ],
   "source": [
    "command = ['nii2mnc ' in.group.avg_mask_func,'/tmp/mask.mnc')"
   ]
  },
  {
   "cell_type": "code",
   "execution_count": 31,
   "metadata": {
    "collapsed": true
   },
   "outputs": [
    {
     "name": "stdout",
     "output_type": "stream",
     "text": [
      "'niak_fileparts' is a function from the file /home/yassinebha/git/niak/commands/formats/niak_fileparts.m\n",
      "\n",
      " Extract the path, name and extension from a full path name\n",
      "\n",
      " SYNTAX:\n",
      " [PATH_F,NAME_F,EXT_F,FLAG_ZIP,EXT_SHORT] = NIAK_FILEPARTS(FILE_NAME)\n",
      "\n",
      " _________________________________________________________________________\n",
      " INPUTS:\n",
      "\n",
      " FILE_NAME\n",
      "       (string) a (full path) file name\n",
      "\n",
      " _________________________________________________________________________\n",
      " OUTPUTS:\n",
      "\n",
      " PATH_F\n",
      "       (string) The path of FILE_NAME. If unspecified, it is '.'\n",
      "\n",
      " NAME_F\n",
      "       (string) the name of FILE_NAME (without path or extension).\n",
      "\n",
      " EXT_F\n",
      "       (string) the extension of FILE_NAME. If multiple extensions exist,\n",
      "       only the first one will be recognized except if the second is\n",
      "       '.gz' (or actually the extension defined in GB_NIAK_ZIP_EXT defined\n",
      "       in NIAK_GB_VARS.M), in which case two extensions will be extracted.\n",
      "\n",
      " FLAG_ZIP\n",
      "       (boolean) FLAG_ZIP is true if the first extension of the file is \n",
      "       '.gz' (or actually the extension defined in GB_NIAK_ZIP_EXT defined\n",
      "       in NIAK_GB_VARS.M)\n",
      "\n",
      " EXT_SHORT\n",
      "       (string) same as EXT_F, but without the '.gz' at the end if any.\n",
      "\n",
      " _________________________________________________________________________\n",
      " SEE ALSO:\n",
      "\n",
      " _________________________________________________________________________\n",
      " COMMENTS:\n",
      " \n",
      " This is essentially a wraper around the function FILEPARTS, but it\n",
      " behaves differently for .gz files (see OUTPUTS).\n",
      "\n",
      " Copyright (c) Pierre Bellec, Centre de recherche de l'institut de\n",
      " geriatrie de Montreal, 2010-2015\n",
      " Maintainer : pbellec@criugm.qc.ca\n",
      " See licensing information in the code.\n",
      " Keywords : \n",
      "\n",
      "\n",
      "Additional help for built-in functions and operators is\n",
      "available in the online version of the manual.  Use the command\n",
      "'doc <topic>' to search the manual index.\n",
      "\n",
      "Help and information about Octave is also available on the WWW\n",
      "at http://www.octave.org and via the help@octave.org\n",
      "mailing list.\n"
     ]
    }
   ],
   "source": []
  },
  {
   "cell_type": "code",
   "execution_count": 32,
   "metadata": {
    "collapsed": false
   },
   "outputs": [
    {
     "name": "stdout",
     "output_type": "stream",
     "text": [
      "PATH_F = /home/yassinebha/Drive/QC_zooniverse/template_layout/test_data/group_coregistration\n",
      "NAME_F = func_mask_average_stereonl\n",
      "EXT_F = .nii.gz\n",
      "FLAG_ZIP =  1\n",
      "EXT_SHORT = .nii\n"
     ]
    }
   ],
   "source": [
    "[PATH_F,NAME_F,EXT_F,FLAG_ZIP,EXT_SHORT] = niak_fileparts(in.group.avg_mask_func)"
   ]
  },
  {
   "cell_type": "code",
   "execution_count": 38,
   "metadata": {
    "collapsed": false,
    "deletable": true,
    "editable": true
   },
   "outputs": [
    {
     "name": "stdout",
     "output_type": "stream",
     "text": [
      "\n",
      "Logs will be stored in /home/yassinebha/Drive/QC_zooniverse/template_layout/test_data/zooqc_adhd200_11-May-2017/logs/\n",
      "Generating dependencies ...\n",
      "   Percentage completed :  0 5 10 15 20 25 30 35 40 45 50 55 60 65 70 75 80 85 90 95 100- 0.03 sec\n",
      "Setting up the to-do list ...\n",
      "   I found 2 job(s) to do, and 38 job(s) already completed.\n",
      "Deamon started on 11-May-2017 00:41:08\n",
      "11-May-2017 00:41:08 Starting the pipeline manager...\n",
      "11-May-2017 00:41:08 Starting the garbage collector...\n",
      "11-May-2017 00:41:08 Starting worker number 1...\n",
      "11-May-2017 00:41:08 Starting worker number 2...\n",
      "11-May-2017 00:41:08 Starting worker number 3...\n",
      "11-May-2017 00:41:08 Starting worker number 4...\n",
      "11-May-2017 00:41:08 Starting worker number 5...\n",
      "11-May-2017 00:41:09 Starting worker number 6...\n",
      "11-May-2017 00:41:09 Starting worker number 7...\n",
      "\n",
      "Pipeline started on 11-May-2017 00:41:09\n",
      "user: yassinebha, host: yassinebha-Lemur-Ultra, system: unix\n",
      "************************************************************\n",
      "11-May-2017 00:41:09 Starting worker number 8...\n",
      "11-May-2017 00:41:09 Starting worker number 9...\n",
      "11-May-2017 00:41:09 Starting worker number 10...\n",
      "11-May-2017 00:41:10 anat_manifest                       submitted  (1 run | 0 fail | 38 done | 1 left)\n",
      "11-May-2017 00:41:10 func_manifest                       submitted  (2 run | 0 fail | 38 done | 0 left)\n",
      "11-May-2017 00:41:10 Stopping idle worker 2 (not enough jobs left to do).\n",
      "11-May-2017 00:41:10 anat_manifest                       finished   (1 run | 0 fail | 39 done | 0 left)\n",
      "11-May-2017 00:41:10 func_manifest                       finished   (0 run | 0 fail | 40 done | 0 left)\n",
      "11-May-2017 00:41:10 Stopping idle worker 1 (not enough jobs left to do).\n",
      "11-May-2017 00:41:10 Stopping idle worker 3 (not enough jobs left to do).\n",
      "11-May-2017 00:41:10 Stopping idle worker 4 (not enough jobs left to do).\n",
      "11-May-2017 00:41:10 Stopping idle worker 5 (not enough jobs left to do).\n",
      "\n",
      "*******************************************\n",
      "Pipeline terminated on 11-May-2017 00:41:10\n",
      "All jobs have been successfully completed.\n",
      "\n"
     ]
    }
   ],
   "source": [
    "%HC0040013 \n",
    "in.ind.anat.HC0040013 = [path_root 'template_layout/test_data/HC0040013/anat_HC0040013_nuc_stereonl.nii.gz'];\n",
    "in.ind.func.HC0040013  = [path_root 'template_layout/test_data/HC0040013/func_HC0040013_mean_stereonl.nii.gz'];\n",
    "%HC0040020 \n",
    "in.ind.anat.HC0040020 = [path_root 'template_layout/test_data/HC0040020/anat_HC0040020_nuc_stereonl.nii.gz'];\n",
    "in.ind.func.HC0040020  = [path_root 'template_layout/test_data/HC0040020/func_HC0040020_mean_stereonl.nii.gz'];\n",
    "\n",
    "in.group.mask_func_group = [path_root 'template_layout/test_data/HC0040013/func_mask_group_stereonl.nii.gz'];\n",
    "in.group.avg_mask_func = [path_root 'template_layout/test_data/group_coregistration/func_mask_average_stereonl.mnc.gz'];\n",
    "in.template.anat_outline = [path_layout 'layout.nii.gz'];\n",
    "in.template.func_outline = '';\n",
    "opt.folder_out = [path_root 'template_layout/test_data/zooqc_adhd200_' date];\n",
    "pipeline = zoo_report_fmri_preprocess(in,opt);\n"
   ]
  },
  {
   "cell_type": "code",
   "execution_count": 36,
   "metadata": {
    "collapsed": false
   },
   "outputs": [
    {
     "name": "stdout",
     "output_type": "stream",
     "text": [
      "\n",
      "\n",
      "********************************************************\n",
      "  Log file of job outline_func_template (status failed) \n",
      "********************************************************\n",
      "\n",
      "\n",
      "******************************\n",
      "Log of the (octave) job : outline_func_template\n",
      "Started on 11-May-2017 00:25:53\n",
      "User: yassinebha\n",
      "host : yassinebha-Lemur-Ultra\n",
      "system : unix\n",
      "******************************\n",
      "\n",
      "\n",
      "Something went bad ... the job has FAILED !\n",
      "The last error message occured was :\n",
      "There was an error calling mincresample. The call was: mincresample -clobber /home/yassinebha/Drive/QC_zooniverse/template_layout/test_data/group_coregistration/func_mask_average_stereonl.nii.gz /tmp/psom_tmp_outline_func_template_533732.nii -like /home/yassinebha/git/niak/template/mni-models_icbm152-nl-2009-1.0/mni_icbm152_t1_tal_nlin_sym_09a_mask_dilated5mm.mnc.gz ; The error message was: \n",
      "File /home/yassinebha/git/zooniverse_qc/zoo_brick_outline.m at line 84\n",
      "File /home/yassinebha/git/psom/psom_run_job.m at line 185\n",
      "File /home/yassinebha/git/psom/psom_run_job.m at line 106\n",
      "File /home/yassinebha/git/psom/psom_worker.m at line 161\n",
      "\n",
      "\n",
      "The output file or directory /home/yassinebha/Drive/QC_zooniverse/template_layout/test_data/zooqc_adhd200_11-May-2017/group/func_outline_sym.nii.gz has not been generated!\n",
      "\n",
      "**********************************************\n",
      "11-May-2017 00:25:53 : The job has FAILED\n",
      "Total time used to process the job : 0.34 sec.\n",
      "**********************************************\n"
     ]
    }
   ],
   "source": [
    "psom_pipeline_visu('/home/yassinebha/Drive/QC_zooniverse/template_layout/test_data/zooqc_adhd200_11-May-2017/logs/','log','outline_func_template');\n"
   ]
  },
  {
   "cell_type": "code",
   "execution_count": null,
   "metadata": {
    "collapsed": true
   },
   "outputs": [],
   "source": []
  },
  {
   "cell_type": "code",
   "execution_count": null,
   "metadata": {
    "collapsed": true
   },
   "outputs": [],
   "source": []
  },
  {
   "cell_type": "code",
   "execution_count": null,
   "metadata": {
    "collapsed": true
   },
   "outputs": [],
   "source": []
  },
  {
   "cell_type": "code",
   "execution_count": 6,
   "metadata": {
    "collapsed": true
   },
   "outputs": [],
   "source": [
    "in.ind = psom_struct_defaults( in.ind , ...\n",
    "    { 'anat' , 'func' }, ...\n",
    "    { NaN    , NaN    });"
   ]
  },
  {
   "cell_type": "code",
   "execution_count": 7,
   "metadata": {
    "collapsed": false
   },
   "outputs": [
    {
     "name": "stdout",
     "output_type": "stream",
     "text": [
      "ans =\n",
      "\n",
      "  scalar structure containing the fields:\n",
      "\n",
      "    anat =\n",
      "\n",
      "      scalar structure containing the fields:\n",
      "\n",
      "        HC0040013 = /home/yassinebha/Drive/QC_zooniverse/template_layout/test_data/HC0040013/anat_HC0040013_nuc_stereonl.nii.gz\n",
      "        HC0040020 = /home/yassinebha/Drive/QC_zooniverse/template_layout/test_data/HC0040020/anat_HC0040020_nuc_stereonl.nii.gz\n",
      "\n",
      "    func =\n",
      "\n",
      "      scalar structure containing the fields:\n",
      "\n",
      "        HC0040013 = /home/yassinebha/Drive/QC_zooniverse/template_layout/test_data/HC0040013/func_HC0040013_mean_stereonl.nii.gz\n",
      "        HC0040020 = /home/yassinebha/Drive/QC_zooniverse/template_layout/test_data/HC0040020/func_HC0040020_mean_stereonl.nii.gz\n",
      "\n",
      "\n"
     ]
    }
   ],
   "source": [
    "in.ind"
   ]
  },
  {
   "cell_type": "code",
   "execution_count": null,
   "metadata": {
    "collapsed": true
   },
   "outputs": [],
   "source": []
  }
 ],
 "metadata": {
  "kernelspec": {
   "display_name": "Octave",
   "language": "octave",
   "name": "octave"
  },
  "language_info": {
   "file_extension": ".m",
   "help_links": [
    {
     "text": "MetaKernel Magics",
     "url": "https://github.com/calysto/metakernel/blob/master/metakernel/magics/README.md"
    }
   ],
   "mimetype": "text/x-octave",
   "name": "octave",
   "version": "0.16.0"
  }
 },
 "nbformat": 4,
 "nbformat_minor": 2
}
