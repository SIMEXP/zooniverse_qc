{
 "cells": [
  {
   "cell_type": "code",
   "execution_count": 2,
   "metadata": {
    "collapsed": false,
    "deletable": true,
    "editable": true
   },
   "outputs": [
    {
     "name": "stdout",
     "output_type": "stream",
     "text": [
      "Adding library niak to the search path.\n",
      "\n",
      "Adding library psom to the search path.\n",
      "\n",
      "Adding library zooniverse_qc to the search path.\n",
      "\n"
     ]
    }
   ],
   "source": [
    "                                                                                                                                                                                                                                                                                                                                                                                                                                                                                                                                                                                                                                                                                                                                                                                                                                                                                                                                                                                                                                                                                                                                                                                                                                                                                                                                                                                                                                                                                                                                                                                                                                                                                                                                                                                                                                                                                                                                                clear all\n",
    "                                                                                                                                                                                                                                                                                                                                                                                                                                                                                                                                                                                                                                                                                                                                                                                                                                                                                                                                                                                                                                                                                                                                                                                                                                                                                                                                                                                                                                                                                                                                                                                                                                                                                                                                                                                                                                                                                                                                                % build path\n",
    "                                                                                                                                                                                                                                                                                                                                                                                                                                                                                                                                                                                                                                                                                                                                                                                                                                                                                                                                                                                                                                                                                                                                                                                                                                                                                                                                                                                                                                                                                                                                                                                                                                                                                                                                                                                                                                                                                                                                                addpath(genpath('../Misc'))\n",
    "                                                                                                                                                                                                                                                                                                                                                                                                                                                                                                                                                                                                                                                                                                                                                                                                                                                                                                                                                                                                                                                                                                                                                                                                                                                                                                                                                                                                                                                                                                                                                                                                                                                                                                                                                                                                                                                                                                                                                build_path  niak psom zooniverse_qc  \n",
    "\n",
    "# Set path\n",
    "path_root = '/home/yassinebha/Drive/QC_zooniverse/';\n",
    "#path_root = '/media/yassinebha/database29/Drive/QC_zooniverse/';\n",
    "path_outline = [path_root 'template_layout/brain_outline_bold/'];\n",
    "path_layout = [path_root 'template_layout/layout/'];"
   ]
  },
  {
   "cell_type": "code",
   "execution_count": 3,
   "metadata": {
    "collapsed": false,
    "deletable": true,
    "editable": true
   },
   "outputs": [],
   "source": [
    "% invert nask func\n",
    "in.source = [path_root 'template_layout/test_data/HC0040013/func_HC0040013_mean_stereonl.nii.gz'];\n",
    "out = [path_root 'template_layout/test_data/HC0040013/HC0040013_test_inv_func.nii.gz'];\n",
    "opt.only_mask = false;\n",
    "[in,out,opt] = zoo_brick_invert_contrast(in,out,opt);"
   ]
  },
  {
   "cell_type": "code",
   "execution_count": 8,
   "metadata": {
    "collapsed": false,
    "deletable": true,
    "editable": true
   },
   "outputs": [],
   "source": [
    "% invert mask anat\n",
    "in.source = [path_root 'template_layout/test_data/HC0040013/anat_HC0040013_nuc_stereonl.nii.gz'];\n",
    "out = [path_root 'template_layout/test_data/HC0040013/HC0040013_test_inv_anat.nii.gz'];\n",
    "opt.only_mask = true;\n",
    "[in,out,opt] = zoo_brick_invert_contrast(in,out,opt);"
   ]
  },
  {
   "cell_type": "code",
   "execution_count": 28,
   "metadata": {
    "collapsed": false,
    "deletable": true,
    "editable": true
   },
   "outputs": [],
   "source": [
    "# anat outline\n",
    "clear in out opt\n",
    "in.layout=[path_layout 'layout.nii.gz'];\n",
    "out = '/home/yassinebha/Drive/QC_zooniverse/template_layout/test_anat_layout.nii.gz';\n",
    "[in,out,opt]= zoo_brick_outline(in,out);\n"
   ]
  },
  {
   "cell_type": "code",
   "execution_count": 31,
   "metadata": {
    "collapsed": false,
    "deletable": true,
    "editable": true
   },
   "outputs": [
    {
     "name": "stdout",
     "output_type": "stream",
     "text": [
      "Transforming slices:.............................................................................................................................................................................................Done\r\n"
     ]
    }
   ],
   "source": [
    "#func outline\n",
    "clear in out opt\n",
    "in.layout=[path_layout 'layout.nii.gz'];\n",
    "in.mask_func = [path_outline 'func_mask_average_stereonl.mnc.gz'];\n",
    "opt.modality = 'func';\n",
    "out = '/home/yassinebha/Drive/QC_zooniverse/template_layout/test_func_layout.nii.gz';\n",
    "\n",
    "[in,out,opt]= zoo_brick_outline(in,out,opt);"
   ]
  },
  {
   "cell_type": "code",
   "execution_count": 11,
   "metadata": {
    "collapsed": false,
    "deletable": true,
    "editable": true,
    "scrolled": false
   },
   "outputs": [
    {
     "name": "stdout",
     "output_type": "stream",
     "text": [
      "Adding library niak to the search path.\n",
      "\n",
      "Adding library psom to the search path.\n",
      "\n",
      "Adding library zooniverse_qc to the search path.\n",
      "\n",
      "\n",
      "Logs will be stored in /home/yassinebha/Drive/QC_zooniverse/template_layout/test_data/zooqc_adhd200_test2/logs/\n",
      "Generating dependencies ...\n",
      "   Percentage completed :  0 5 10 15 20 25 30 35 40 45 50 55 60 65 70 75 80 85 90 95 100- 0.06 sec\n",
      "Setting up the to-do list ...\n",
      "   I found 40 job(s) to do.\n",
      "I could not find any log file. This pipeline has not been started (yet?). Press CTRL-C to cancel.\n",
      "Deamon started on 11-May-2017 14:51:47\n",
      "11-May-2017 14:51:47 Starting the pipeline manager...\n",
      "11-May-2017 14:51:47 Starting the garbage collector...\n",
      "11-May-2017 14:51:47 Starting worker number 1...\n",
      "11-May-2017 14:51:47 Starting worker number 2...\n",
      "11-May-2017 14:51:48 Starting worker number 3...\n",
      "11-May-2017 14:51:48 Starting worker number 4...\n",
      "11-May-2017 14:51:48 Starting worker number 5...\n",
      "11-May-2017 14:51:48 Starting worker number 6...\n",
      "11-May-2017 14:51:48 Starting worker number 7...\n",
      "11-May-2017 14:51:48 Starting worker number 8...\n",
      "\n",
      "Pipeline started on 11-May-2017 14:51:48\n",
      "user: yassinebha, host: figuier, system: unix\n",
      "*********************************************\n",
      "11-May-2017 14:51:49 Starting worker number 9...\n",
      "11-May-2017 14:51:49 Starting worker number 10...\n",
      "11-May-2017 14:51:51 cp_report_templates                 submitted  (1 run | 0 fail | 0 done | 39 left)\n",
      "11-May-2017 14:51:51 outline_anat_template               submitted  (2 run | 0 fail | 0 done | 38 left)\n",
      "11-May-2017 14:51:51 outline_func_template               submitted  (3 run | 0 fail | 0 done | 37 left)\n",
      "11-May-2017 14:51:51 montage_template_anat               submitted  (4 run | 0 fail | 0 done | 36 left)\n",
      "11-May-2017 14:51:51 t1_raw_montage_HC0040013            submitted  (5 run | 0 fail | 0 done | 35 left)\n",
      "11-May-2017 14:51:51 t1_raw_montage_HC0040020            submitted  (6 run | 0 fail | 0 done | 34 left)\n",
      "11-May-2017 14:51:51 bold_nuc_HC0040013                  submitted  (7 run | 0 fail | 0 done | 33 left)\n",
      "11-May-2017 14:51:51 clean_bold_nuc_HC0040013            submitted  (8 run | 0 fail | 0 done | 32 left)\n",
      "11-May-2017 14:51:51 bold_nuc_HC0040020                  submitted  (9 run | 0 fail | 0 done | 31 left)\n",
      "11-May-2017 14:51:51 clean_bold_nuc_HC0040020            submitted  (10 run | 0 fail | 0 done | 30 left)\n",
      "11-May-2017 14:51:52 clean_bold_nuc_HC0040013            finished   (9 run | 0 fail | 1 done | 30 left)\n",
      "11-May-2017 14:51:52 clean_bold_nuc_HC0040020            finished   (8 run | 0 fail | 2 done | 30 left)\n",
      "11-May-2017 14:51:52 anat_mask_back_HC0040013            submitted  (9 run | 0 fail | 2 done | 29 left)\n",
      "11-May-2017 14:51:52 anat_mask_back_HC0040020            submitted  (10 run | 0 fail | 2 done | 28 left)\n",
      "11-May-2017 14:51:52 init_report                         submitted  (11 run | 0 fail | 2 done | 27 left)\n",
      "11-May-2017 14:51:52 anat_manifest                       submitted  (12 run | 0 fail | 2 done | 26 left)\n",
      "11-May-2017 14:51:52 func_manifest                       submitted  (13 run | 0 fail | 2 done | 25 left)\n",
      "11-May-2017 14:51:52 init_report                         finished   (12 run | 0 fail | 3 done | 25 left)\n",
      "11-May-2017 14:51:52 anat_manifest                       finished   (11 run | 0 fail | 4 done | 25 left)\n",
      "11-May-2017 14:51:52 func_manifest                       finished   (10 run | 0 fail | 5 done | 25 left)\n",
      "11-May-2017 14:51:56 cp_report_templates                 finished   (9 run | 0 fail | 6 done | 25 left)\n",
      "11-May-2017 14:52:01 anat_mask_back_HC0040013            finished   (8 run | 0 fail | 7 done | 25 left)\n",
      "11-May-2017 14:52:02 t1_back_raw_montage_HC0040013       submitted  (9 run | 0 fail | 7 done | 24 left)\n",
      "11-May-2017 14:52:04 anat_mask_back_HC0040020            finished   (8 run | 0 fail | 8 done | 24 left)\n",
      "11-May-2017 14:52:04 t1_back_raw_montage_HC0040020       submitted  (9 run | 0 fail | 8 done | 23 left)\n",
      ".\n",
      "11-May-2017 14:52:52 outline_anat_template               finished   (8 run | 0 fail | 9 done | 23 left)\n",
      "11-May-2017 14:52:52 outline_func_template               finished   (7 run | 0 fail | 10 done | 23 left)\n",
      "11-May-2017 14:52:52 montage_func_outline                submitted  (8 run | 0 fail | 10 done | 22 left)\n",
      "11-May-2017 14:52:52 montage_anat_outline                submitted  (9 run | 0 fail | 10 done | 21 left)\n",
      "11-May-2017 14:52:56 montage_template_anat               finished   (8 run | 0 fail | 11 done | 21 left)\n",
      "11-May-2017 14:52:56 t1_back_raw_montage_HC0040013       finished   (7 run | 0 fail | 12 done | 21 left)\n",
      "11-May-2017 14:52:56 t1_back_raw_montage_HC0040020       finished   (6 run | 0 fail | 13 done | 21 left)\n",
      "11-May-2017 14:52:56 clean_anat_mask_back_HC0040013      submitted  (7 run | 0 fail | 13 done | 20 left)\n",
      "11-May-2017 14:52:56 clean_anat_mask_back_HC0040020      submitted  (8 run | 0 fail | 13 done | 19 left)\n",
      "11-May-2017 14:52:56 clean_anat_mask_back_HC0040013      finished   (7 run | 0 fail | 14 done | 19 left)\n",
      "11-May-2017 14:52:56 clean_anat_mask_back_HC0040020      finished   (6 run | 0 fail | 15 done | 19 left)\n",
      "..\n",
      "11-May-2017 14:54:19 montage_func_outline                finished   (5 run | 0 fail | 16 done | 19 left)\n",
      "11-May-2017 14:54:19 montage_anat_outline                finished   (4 run | 0 fail | 17 done | 19 left)\n",
      "11-May-2017 14:54:19 t1_raw_montage_HC0040013            finished   (3 run | 0 fail | 18 done | 19 left)\n",
      "11-May-2017 14:54:19 t1_raw_montage_HC0040020            finished   (2 run | 0 fail | 19 done | 19 left)\n",
      "11-May-2017 14:54:19 overlay_outlline_anat_template      submitted  (3 run | 0 fail | 19 done | 18 left)\n",
      "11-May-2017 14:54:19 t1_HC0040013_overlay                submitted  (4 run | 0 fail | 19 done | 17 left)\n",
      "11-May-2017 14:54:19 t1_HC0040020_overlay                submitted  (5 run | 0 fail | 19 done | 16 left)\n",
      "11-May-2017 14:54:19 t1_back_HC0040013_overlay           submitted  (6 run | 0 fail | 19 done | 15 left)\n",
      "11-May-2017 14:54:19 t1_back_HC0040020_overlay           submitted  (7 run | 0 fail | 19 done | 14 left)\n",
      "11-May-2017 14:54:24 overlay_outlline_anat_template      finished   (6 run | 0 fail | 20 done | 14 left)\n",
      "11-May-2017 14:54:24 t1_HC0040013_overlay                finished   (5 run | 0 fail | 21 done | 14 left)\n",
      "11-May-2017 14:54:24 t1_HC0040020_overlay                finished   (4 run | 0 fail | 22 done | 14 left)\n",
      "11-May-2017 14:54:24 t1_back_HC0040013_overlay           finished   (3 run | 0 fail | 23 done | 14 left)\n",
      "11-May-2017 14:54:24 t1_back_HC0040020_overlay           finished   (2 run | 0 fail | 24 done | 14 left)\n",
      "11-May-2017 14:54:24 clean_t1_raw_montage_HC0040013      submitted  (3 run | 0 fail | 24 done | 13 left)\n",
      "11-May-2017 14:54:24 clean_t1_raw_montage_HC0040020      submitted  (4 run | 0 fail | 24 done | 12 left)\n",
      "11-May-2017 14:54:24 clean_t1_back_raw_montage_HC0040013 submitted  (5 run | 0 fail | 24 done | 11 left)\n",
      "11-May-2017 14:54:24 clean_t1_back_raw_montage_HC0040020 submitted  (6 run | 0 fail | 24 done | 10 left)\n",
      "11-May-2017 14:54:24 clean_t1_raw_montage_HC0040013      finished   (5 run | 0 fail | 25 done | 10 left)\n",
      "11-May-2017 14:54:24 clean_t1_raw_montage_HC0040020      finished   (4 run | 0 fail | 26 done | 10 left)\n",
      "11-May-2017 14:54:24 clean_t1_back_raw_montage_HC0040013 finished   (3 run | 0 fail | 27 done | 10 left)\n",
      "11-May-2017 14:54:24 clean_t1_back_raw_montage_HC0040020 finished   (2 run | 0 fail | 28 done | 10 left)\n",
      "11-May-2017 14:54:27 bold_nuc_HC0040013                  finished   (1 run | 0 fail | 29 done | 10 left)\n",
      "11-May-2017 14:54:27 bold_inv_HC0040013                  submitted  (2 run | 0 fail | 29 done | 9 left)\n",
      "11-May-2017 14:54:27 Stopping idle worker 2 (not enough jobs left to do).\n",
      ".\n",
      "11-May-2017 14:54:35 bold_inv_HC0040013                  finished   (1 run | 0 fail | 30 done | 9 left)\n",
      "11-May-2017 14:54:35 bold_raw_montage_HC0040013          submitted  (2 run | 0 fail | 30 done | 8 left)\n",
      "11-May-2017 14:54:35 Stopping idle worker 3 (not enough jobs left to do).\n",
      "11-May-2017 14:54:39 bold_raw_montage_HC0040013          finished   (1 run | 0 fail | 31 done | 8 left)\n",
      "11-May-2017 14:54:39 clean_bold_inv_HC0040013            submitted  (2 run | 0 fail | 31 done | 7 left)\n",
      "11-May-2017 14:54:39 bold_HC0040013_overlay              submitted  (3 run | 0 fail | 31 done | 6 left)\n",
      "11-May-2017 14:54:39 Stopping idle worker 6 (not enough jobs left to do).\n",
      "11-May-2017 14:54:39 Stopping idle worker 7 (not enough jobs left to do).\n",
      "11-May-2017 14:54:39 clean_bold_inv_HC0040013            finished   (2 run | 0 fail | 32 done | 6 left)\n",
      "11-May-2017 14:54:39 bold_HC0040013_overlay              finished   (1 run | 0 fail | 33 done | 6 left)\n",
      "11-May-2017 14:54:39 clean_bold_raw_montage_HC0040013    submitted  (2 run | 0 fail | 33 done | 5 left)\n",
      "11-May-2017 14:54:39 Stopping idle worker 5 (not enough jobs left to do).\n",
      "11-May-2017 14:54:40 clean_bold_raw_montage_HC0040013    finished   (1 run | 0 fail | 34 done | 5 left)\n",
      ".\n",
      "11-May-2017 14:55:02 bold_nuc_HC0040020                  finished   (0 run | 0 fail | 35 done | 5 left)\n",
      "11-May-2017 14:55:02 bold_inv_HC0040020                  submitted  (1 run | 0 fail | 35 done | 4 left)\n",
      "11-May-2017 14:55:02 Stopping idle worker 4 (not enough jobs left to do).\n",
      "11-May-2017 14:55:03 bold_inv_HC0040020                  finished   (0 run | 0 fail | 36 done | 4 left)\n",
      "11-May-2017 14:55:03 bold_raw_montage_HC0040020          submitted  (1 run | 0 fail | 36 done | 3 left)\n",
      "11-May-2017 14:55:03 Stopping idle worker 8 (not enough jobs left to do).\n",
      "11-May-2017 14:55:04 bold_raw_montage_HC0040020          finished   (0 run | 0 fail | 37 done | 3 left)\n",
      "11-May-2017 14:55:04 clean_bold_inv_HC0040020            submitted  (1 run | 0 fail | 37 done | 2 left)\n",
      "11-May-2017 14:55:04 bold_HC0040020_overlay              submitted  (2 run | 0 fail | 37 done | 1 left)\n",
      "11-May-2017 14:55:04 Stopping idle worker 10 (not enough jobs left to do).\n",
      "11-May-2017 14:55:04 clean_bold_inv_HC0040020            finished   (1 run | 0 fail | 38 done | 1 left)\n",
      "11-May-2017 14:55:04 Stopping idle worker 1 (not enough jobs left to do).\n",
      "11-May-2017 14:55:05 bold_HC0040020_overlay              finished   (0 run | 0 fail | 39 done | 1 left)\n",
      "11-May-2017 14:55:05 clean_bold_raw_montage_HC0040020    submitted  (1 run | 0 fail | 39 done | 0 left)\n",
      "11-May-2017 14:55:05 clean_bold_raw_montage_HC0040020    finished   (0 run | 0 fail | 40 done | 0 left)\n",
      "11-May-2017 14:55:05 Stopping idle worker 9 (not enough jobs left to do).\n",
      "\n",
      "*******************************************\n",
      "Pipeline terminated on 11-May-2017 14:55:05\n",
      "All jobs have been successfully completed.\n",
      "\n"
     ]
    }
   ],
   "source": [
    "#local pipeline report test\n",
    "clear all\n",
    "% build path\n",
    "addpath(genpath('../Misc'))\n",
    "build_path  niak psom zooniverse_qc  \n",
    "\n",
    "# Set path\n",
    "path_root = '/home/yassinebha/Drive/QC_zooniverse/';\n",
    "#path_root = '/media/yassinebha/database29/Drive/QC_zooniverse/';\n",
    "path_outline = [path_root 'template_layout/brain_outline_bold/'];\n",
    "path_layout = [path_root 'template_layout/layout/'];\n",
    "\n",
    "%HC0040013 \n",
    "in.ind.anat.HC0040013 = [path_root 'template_layout/test_data/HC0040013/anat_HC0040013_nuc_stereonl.nii.gz'];\n",
    "in.ind.func.HC0040013  = [path_root 'template_layout/test_data/HC0040013/func_HC0040013_mean_stereonl.nii.gz'];\n",
    "%HC0040020 \n",
    "in.ind.anat.HC0040020 = [path_root 'template_layout/test_data/HC0040020/anat_HC0040020_nuc_stereonl.nii.gz'];\n",
    "in.ind.func.HC0040020  = [path_root 'template_layout/test_data/HC0040020/func_HC0040020_mean_stereonl.nii.gz'];\n",
    "\n",
    "in.group.mask_func_group = [path_root 'template_layout/test_data/HC0040013/func_mask_group_stereonl.nii.gz'];\n",
    "in.group.avg_mask_func = [path_root 'template_layout/test_data/group_coregistration/func_mask_average_stereonl_backup.mnc.gz'];\n",
    "in.template.anat_outline = [path_layout 'layout.nii.gz'];\n",
    "in.template.func_outline = '';\n",
    "opt.folder_out = [path_root 'template_layout/test_data/zooqc_adhd200_test2'];\n",
    "pipeline = zoo_report_fmri_preprocess(in,opt);\n"
   ]
  },
  {
   "cell_type": "code",
   "execution_count": null,
   "metadata": {
    "collapsed": false,
    "scrolled": false
   },
   "outputs": [],
   "source": [
    "#run on guillimin\n",
    "clear all\n",
    "path_fmri_preproc ='/home/yassinebha/database/cobre_fmri_preprocess_nii_20160920/';\n",
    "in = zoo_grab_report_preprocess(path_fmri_preproc);\n",
    "in.group.avg_mask_func='/home/yassinebha/database/cobre_fmri_preprocess_nii_20160920/quality_control/group_coregistration/func_mask_average_stereonl_backup.mnc.gz';\n",
    "in.template.anat_outline = '/home/yassinebha/layout.nii.gz';\n",
    "opt.folder_out =['/home/yassinebha/test_zooqc_pipeline_cobre_' date];\n",
    "pipeline = zoo_report_fmri_preprocess(in,opt);"
   ]
  },
  {
   "cell_type": "code",
   "execution_count": null,
   "metadata": {
    "collapsed": true
   },
   "outputs": [],
   "source": []
  }
 ],
 "metadata": {
  "kernelspec": {
   "display_name": "Octave",
   "language": "octave",
   "name": "octave"
  },
  "language_info": {
   "file_extension": ".m",
   "help_links": [
    {
     "text": "MetaKernel Magics",
     "url": "https://github.com/calysto/metakernel/blob/master/metakernel/magics/README.md"
    }
   ],
   "mimetype": "text/x-octave",
   "name": "octave",
   "version": "0.19.17"
  }
 },
 "nbformat": 4,
 "nbformat_minor": 2
}
