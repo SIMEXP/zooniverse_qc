{
 "cells": [
  {
   "cell_type": "code",
   "execution_count": 1,
   "metadata": {
    "collapsed": false,
    "deletable": true,
    "editable": true
   },
   "outputs": [],
   "source": [
    "# Set path\n",
    "path_root = '/home/yassinebha/Drive/QC_zooniverse/';\n",
    "#path_root = '/media/yassinebha/database29/Drive/QC_zooniverse/';\n",
    "path_outline = [path_root 'template_layout/brain_outline_bold/'];\n",
    "path_layout = [path_root 'template_layout/layout/'];"
   ]
  },
  {
   "cell_type": "code",
   "execution_count": 3,
   "metadata": {
    "collapsed": false,
    "deletable": true,
    "editable": true
   },
   "outputs": [],
   "source": [
    "% invert nask func\n",
    "in.source = [path_root 'template_layout/test_data/HC0040013/func_HC0040013_mean_stereonl.nii.gz'];\n",
    "out = [path_root 'template_layout/test_data/HC0040013/HC0040013_test_inv_func.nii.gz'];\n",
    "opt.only_mask = false;\n",
    "[in,out,opt] = zoo_brick_invert_contrast(in,out,opt);"
   ]
  },
  {
   "cell_type": "code",
   "execution_count": 8,
   "metadata": {
    "collapsed": false,
    "deletable": true,
    "editable": true
   },
   "outputs": [],
   "source": [
    "% invert mask anat\n",
    "in.source = [path_root 'template_layout/test_data/HC0040013/anat_HC0040013_nuc_stereonl.nii.gz'];\n",
    "out = [path_root 'template_layout/test_data/HC0040013/HC0040013_test_inv_anat.nii.gz'];\n",
    "opt.only_mask = true;\n",
    "[in,out,opt] = zoo_brick_invert_contrast(in,out,opt);"
   ]
  },
  {
   "cell_type": "code",
   "execution_count": 28,
   "metadata": {
    "collapsed": false,
    "deletable": true,
    "editable": true
   },
   "outputs": [],
   "source": [
    "# anat outline\n",
    "clear in out opt\n",
    "in.layout=[path_layout 'layout.nii.gz'];\n",
    "out = '/home/yassinebha/Drive/QC_zooniverse/template_layout/test_anat_layout.nii.gz';\n",
    "[in,out,opt]= zoo_brick_outline(in,out);\n"
   ]
  },
  {
   "cell_type": "code",
   "execution_count": 31,
   "metadata": {
    "collapsed": false,
    "deletable": true,
    "editable": true
   },
   "outputs": [
    {
     "name": "stdout",
     "output_type": "stream",
     "text": [
      "Transforming slices:.............................................................................................................................................................................................Done\r\n"
     ]
    }
   ],
   "source": [
    "#func outline\n",
    "clear in out opt\n",
    "in.layout=[path_layout 'layout.nii.gz'];\n",
    "in.mask_func = [path_outline 'func_mask_average_stereonl.mnc.gz'];\n",
    "opt.modality = 'func';\n",
    "out = '/home/yassinebha/Drive/QC_zooniverse/template_layout/test_func_layout.nii.gz';\n",
    "\n",
    "[in,out,opt]= zoo_brick_outline(in,out,opt);"
   ]
  },
  {
   "cell_type": "code",
   "execution_count": 2,
   "metadata": {
    "collapsed": false,
    "deletable": true,
    "editable": true,
    "scrolled": false
   },
   "outputs": [
    {
     "name": "stdout",
     "output_type": "stream",
     "text": [
      "Adding library niak to the search path.\n",
      "\n",
      "Adding library psom to the search path.\n",
      "\n",
      "Adding library zooniverse_qc to the search path.\n",
      "\n",
      "\n",
      "Logs will be stored in /home/yassinebha/Drive/QC_zooniverse/template_layout/test_data/zooqc_adhd200_test3/logs/\n",
      "Generating dependencies ...\n",
      "   Percentage completed :  0 5 10 15 20 25 30 35 40 45 50 55 60 65 70 75 80 85 90 95 100- 0.03 sec\n",
      "Setting up the to-do list ...\n",
      "   I found 42 job(s) to do.\n",
      "I could not find any log file. This pipeline has not been started (yet?). Press CTRL-C to cancel.\n",
      "Deamon started on 15-May-2017 15:41:53\n",
      "15-May-2017 15:41:53 Starting the pipeline manager...\n",
      "15-May-2017 15:41:53 Starting the garbage collector...\n",
      "15-May-2017 15:41:53 Starting worker number 1...\n",
      "15-May-2017 15:41:53 Starting worker number 2...\n",
      "15-May-2017 15:41:53 Starting worker number 3...\n",
      "15-May-2017 15:41:53 Starting worker number 4...\n",
      "15-May-2017 15:41:53 Starting worker number 5...\n",
      "15-May-2017 15:41:53 Starting worker number 6...\n",
      "15-May-2017 15:41:53 Starting worker number 7...\n",
      "\n",
      "Pipeline started on 15-May-2017 15:41:53\n",
      "user: yassinebha, host: yassinebha-Lemur-Ultra, system: unix\n",
      "************************************************************\n",
      "15-May-2017 15:41:53 Starting worker number 8...\n",
      "15-May-2017 15:41:54 Starting worker number 9...\n",
      "15-May-2017 15:41:54 Starting worker number 10...\n",
      "15-May-2017 15:41:54 cp_report_templates                 submitted  (1 run | 0 fail | 0 done | 41 left)\n",
      "15-May-2017 15:41:54 outline_anat_template               submitted  (2 run | 0 fail | 0 done | 40 left)\n",
      "15-May-2017 15:41:54 convert2minc                        submitted  (3 run | 0 fail | 0 done | 39 left)\n",
      "15-May-2017 15:41:54 montage_template_anat               submitted  (4 run | 0 fail | 0 done | 38 left)\n",
      "15-May-2017 15:41:55 t1_raw_montage_HC0040013            submitted  (5 run | 0 fail | 0 done | 37 left)\n",
      "15-May-2017 15:41:55 t1_raw_montage_HC0040020            submitted  (6 run | 0 fail | 0 done | 36 left)\n",
      "15-May-2017 15:41:55 bold_nuc_HC0040013                  submitted  (7 run | 0 fail | 0 done | 35 left)\n",
      "15-May-2017 15:41:55 bold_nuc_HC0040020                  submitted  (8 run | 0 fail | 0 done | 34 left)\n",
      "15-May-2017 15:41:55 anat_mask_back_HC0040013            submitted  (9 run | 0 fail | 0 done | 33 left)\n",
      "15-May-2017 15:41:55 anat_mask_back_HC0040020            submitted  (10 run | 0 fail | 0 done | 32 left)\n",
      "15-May-2017 15:41:55 init_report                         submitted  (11 run | 0 fail | 0 done | 31 left)\n",
      "15-May-2017 15:41:55 anat_manifest                       submitted  (12 run | 0 fail | 0 done | 30 left)\n",
      "15-May-2017 15:41:55 func_manifest                       submitted  (13 run | 0 fail | 0 done | 29 left)\n",
      "15-May-2017 15:41:55 cp_report_templates                 finished   (12 run | 0 fail | 1 done | 29 left)\n",
      "15-May-2017 15:41:55 convert2minc                        finished   (11 run | 0 fail | 2 done | 29 left)\n",
      "15-May-2017 15:41:55 init_report                         finished   (10 run | 0 fail | 3 done | 29 left)\n",
      "15-May-2017 15:41:55 anat_manifest                       finished   (9 run | 0 fail | 4 done | 29 left)\n",
      "15-May-2017 15:41:55 outline_func_template               submitted  (10 run | 0 fail | 4 done | 28 left)\n",
      "15-May-2017 15:42:01 anat_mask_back_HC0040013            finished   (9 run | 0 fail | 5 done | 28 left)\n",
      "15-May-2017 15:42:01 anat_mask_back_HC0040020            finished   (8 run | 0 fail | 6 done | 28 left)\n",
      "15-May-2017 15:42:01 t1_back_raw_montage_HC0040013       submitted  (9 run | 0 fail | 6 done | 27 left)\n",
      "15-May-2017 15:42:01 t1_back_raw_montage_HC0040020       submitted  (10 run | 0 fail | 6 done | 26 left)\n",
      "15-May-2017 15:42:03 montage_template_anat               finished   (9 run | 0 fail | 7 done | 26 left)\n",
      "15-May-2017 15:42:03 t1_raw_montage_HC0040013            finished   (8 run | 0 fail | 8 done | 26 left)\n",
      "15-May-2017 15:42:03 t1_raw_montage_HC0040020            finished   (7 run | 0 fail | 9 done | 26 left)\n",
      "15-May-2017 15:42:06 bold_nuc_HC0040020                  finished   (6 run | 0 fail | 10 done | 26 left)\n",
      "15-May-2017 15:42:06 bold_inv_HC0040020                  submitted  (7 run | 0 fail | 10 done | 25 left)\n",
      "15-May-2017 15:42:06 bold_inv_HC0040020                  finished   (6 run | 0 fail | 11 done | 25 left)\n",
      "15-May-2017 15:42:06 t1_back_raw_montage_HC0040013       finished   (5 run | 0 fail | 12 done | 25 left)\n",
      "15-May-2017 15:42:06 t1_back_raw_montage_HC0040020       finished   (4 run | 0 fail | 13 done | 25 left)\n",
      "15-May-2017 15:42:06 clean_bold_nuc_HC0040020            submitted  (5 run | 0 fail | 13 done | 24 left)\n",
      "15-May-2017 15:42:06 bold_raw_montage_HC0040020          submitted  (6 run | 0 fail | 13 done | 23 left)\n",
      "15-May-2017 15:42:06 clean_anat_mask_back_HC0040013      submitted  (7 run | 0 fail | 13 done | 22 left)\n",
      "15-May-2017 15:42:06 clean_anat_mask_back_HC0040020      submitted  (8 run | 0 fail | 13 done | 21 left)\n",
      "15-May-2017 15:42:07 clean_bold_nuc_HC0040020            finished   (7 run | 0 fail | 14 done | 21 left)\n",
      "15-May-2017 15:42:07 clean_anat_mask_back_HC0040013      finished   (6 run | 0 fail | 15 done | 21 left)\n",
      "15-May-2017 15:42:07 clean_anat_mask_back_HC0040020      finished   (5 run | 0 fail | 16 done | 21 left)\n",
      "15-May-2017 15:42:07 bold_raw_montage_HC0040020          finished   (4 run | 0 fail | 17 done | 21 left)\n",
      "15-May-2017 15:42:07 clean_bold_inv_HC0040020            submitted  (5 run | 0 fail | 17 done | 20 left)\n",
      "15-May-2017 15:42:08 clean_bold_inv_HC0040020            finished   (4 run | 0 fail | 18 done | 20 left)\n",
      "15-May-2017 15:42:08 bold_nuc_HC0040013                  finished   (3 run | 0 fail | 19 done | 20 left)\n",
      "15-May-2017 15:42:08 func_manifest                       finished   (2 run | 0 fail | 20 done | 20 left)\n",
      "15-May-2017 15:42:08 bold_inv_HC0040013                  submitted  (3 run | 0 fail | 20 done | 19 left)\n",
      "15-May-2017 15:42:09 bold_inv_HC0040013                  finished   (2 run | 0 fail | 21 done | 19 left)\n",
      "15-May-2017 15:42:09 clean_bold_nuc_HC0040013            submitted  (3 run | 0 fail | 21 done | 18 left)\n",
      "15-May-2017 15:42:09 bold_raw_montage_HC0040013          submitted  (4 run | 0 fail | 21 done | 17 left)\n",
      "15-May-2017 15:42:10 clean_bold_nuc_HC0040013            finished   (3 run | 0 fail | 22 done | 17 left)\n",
      "15-May-2017 15:42:10 bold_raw_montage_HC0040013          finished   (2 run | 0 fail | 23 done | 17 left)\n",
      "15-May-2017 15:42:10 clean_bold_inv_HC0040013            submitted  (3 run | 0 fail | 23 done | 16 left)\n",
      "15-May-2017 15:42:11 clean_bold_inv_HC0040013            finished   (2 run | 0 fail | 24 done | 16 left)\n",
      "15-May-2017 15:42:12 outline_func_template               finished   (1 run | 0 fail | 25 done | 16 left)\n",
      "15-May-2017 15:42:12 clean_convert2minc                  submitted  (2 run | 0 fail | 25 done | 15 left)\n",
      "15-May-2017 15:42:12 montage_func_outline                submitted  (3 run | 0 fail | 25 done | 14 left)\n",
      "15-May-2017 15:42:12 clean_convert2minc                  finished   (2 run | 0 fail | 26 done | 14 left)\n",
      "15-May-2017 15:42:14 outline_anat_template               finished   (1 run | 0 fail | 27 done | 14 left)\n",
      "15-May-2017 15:42:14 montage_func_outline                finished   (0 run | 0 fail | 28 done | 14 left)\n",
      "15-May-2017 15:42:14 montage_anat_outline                submitted  (1 run | 0 fail | 28 done | 13 left)\n",
      "15-May-2017 15:42:14 bold_HC0040013_overlay              submitted  (2 run | 0 fail | 28 done | 12 left)\n",
      "15-May-2017 15:42:14 bold_HC0040020_overlay              submitted  (3 run | 0 fail | 28 done | 11 left)\n",
      "15-May-2017 15:42:14 t1_back_HC0040013_overlay           submitted  (4 run | 0 fail | 28 done | 10 left)\n",
      "15-May-2017 15:42:14 t1_back_HC0040020_overlay           submitted  (5 run | 0 fail | 28 done | 9 left)\n",
      "15-May-2017 15:42:14 Stopping idle worker 6 (not enough jobs left to do).\n",
      "15-May-2017 15:42:15 bold_HC0040013_overlay              finished   (4 run | 0 fail | 29 done | 9 left)\n",
      "15-May-2017 15:42:15 bold_HC0040020_overlay              finished   (3 run | 0 fail | 30 done | 9 left)\n",
      "15-May-2017 15:42:15 t1_back_HC0040013_overlay           finished   (2 run | 0 fail | 31 done | 9 left)\n",
      "15-May-2017 15:42:15 t1_back_HC0040020_overlay           finished   (1 run | 0 fail | 32 done | 9 left)\n",
      "15-May-2017 15:42:15 clean_bold_raw_montage_HC0040013    submitted  (2 run | 0 fail | 32 done | 8 left)\n",
      "15-May-2017 15:42:15 clean_bold_raw_montage_HC0040020    submitted  (3 run | 0 fail | 32 done | 7 left)\n",
      "15-May-2017 15:42:15 clean_t1_back_raw_montage_HC0040013 submitted  (4 run | 0 fail | 32 done | 6 left)\n",
      "15-May-2017 15:42:15 clean_t1_back_raw_montage_HC0040020 submitted  (5 run | 0 fail | 32 done | 5 left)\n",
      "15-May-2017 15:42:15 Stopping idle worker 7 (not enough jobs left to do).\n",
      "15-May-2017 15:42:15 Stopping idle worker 8 (not enough jobs left to do).\n",
      "15-May-2017 15:42:15 Stopping idle worker 9 (not enough jobs left to do).\n",
      "15-May-2017 15:42:15 Stopping idle worker 10 (not enough jobs left to do).\n",
      "15-May-2017 15:42:15 clean_bold_raw_montage_HC0040013    finished   (4 run | 0 fail | 33 done | 5 left)\n",
      "15-May-2017 15:42:15 clean_bold_raw_montage_HC0040020    finished   (3 run | 0 fail | 34 done | 5 left)\n",
      "15-May-2017 15:42:15 clean_t1_back_raw_montage_HC0040013 finished   (2 run | 0 fail | 35 done | 5 left)\n",
      "15-May-2017 15:42:15 clean_t1_back_raw_montage_HC0040020 finished   (1 run | 0 fail | 36 done | 5 left)\n",
      "15-May-2017 15:42:17 montage_anat_outline                finished   (0 run | 0 fail | 37 done | 5 left)\n",
      "15-May-2017 15:42:17 overlay_outlline_anat_template      submitted  (1 run | 0 fail | 37 done | 4 left)\n",
      "15-May-2017 15:42:17 t1_HC0040013_overlay                submitted  (2 run | 0 fail | 37 done | 3 left)\n",
      "15-May-2017 15:42:17 t1_HC0040020_overlay                submitted  (3 run | 0 fail | 37 done | 2 left)\n",
      "15-May-2017 15:42:17 Stopping idle worker 4 (not enough jobs left to do).\n",
      "15-May-2017 15:42:17 Stopping idle worker 5 (not enough jobs left to do).\n",
      "15-May-2017 15:42:17 overlay_outlline_anat_template      finished   (2 run | 0 fail | 38 done | 2 left)\n",
      "15-May-2017 15:42:17 t1_HC0040013_overlay                finished   (1 run | 0 fail | 39 done | 2 left)\n",
      "15-May-2017 15:42:17 t1_HC0040020_overlay                finished   (0 run | 0 fail | 40 done | 2 left)\n",
      "15-May-2017 15:42:17 clean_t1_raw_montage_HC0040013      submitted  (1 run | 0 fail | 40 done | 1 left)\n",
      "15-May-2017 15:42:17 clean_t1_raw_montage_HC0040020      submitted  (2 run | 0 fail | 40 done | 0 left)\n",
      "15-May-2017 15:42:17 Stopping idle worker 3 (not enough jobs left to do).\n",
      "15-May-2017 15:42:18 clean_t1_raw_montage_HC0040013      finished   (1 run | 0 fail | 41 done | 0 left)\n",
      "15-May-2017 15:42:18 clean_t1_raw_montage_HC0040020      finished   (0 run | 0 fail | 42 done | 0 left)\n",
      "15-May-2017 15:42:18 Stopping idle worker 1 (not enough jobs left to do).\n",
      "15-May-2017 15:42:18 Stopping idle worker 2 (not enough jobs left to do).\n",
      "\n",
      "*******************************************\n",
      "Pipeline terminated on 15-May-2017 15:42:18\n",
      "All jobs have been successfully completed.\n",
      "\n"
     ]
    }
   ],
   "source": [
    "#local pipeline report test\n",
    "clear all\n",
    "% build path\n",
    "addpath(genpath('../Misc'))\n",
    "build_path  niak psom zooniverse_qc  \n",
    "\n",
    "# Set path\n",
    "path_root = '/home/yassinebha/Drive/QC_zooniverse/';\n",
    "#path_root = '/media/yassinebha/database29/Drive/QC_zooniverse/';\n",
    "path_outline = [path_root 'template_layout/brain_outline_bold/'];\n",
    "path_layout = [path_root 'template_layout/layout/'];\n",
    "\n",
    "%HC0040013 \n",
    "in.ind.anat.HC0040013 = [path_root 'template_layout/test_data/HC0040013/anat_HC0040013_nuc_stereonl.nii.gz'];\n",
    "in.ind.func.HC0040013  = [path_root 'template_layout/test_data/HC0040013/func_HC0040013_mean_stereonl.nii.gz'];\n",
    "%HC0040020 \n",
    "in.ind.anat.HC0040020 = [path_root 'template_layout/test_data/HC0040020/anat_HC0040020_nuc_stereonl.nii.gz'];\n",
    "in.ind.func.HC0040020  = [path_root 'template_layout/test_data/HC0040020/func_HC0040020_mean_stereonl.nii.gz'];\n",
    "\n",
    "in.group.mask_func_group = [path_root 'template_layout/test_data/HC0040013/func_mask_group_stereonl.nii.gz'];\n",
    "in.group.avg_mask_func = [path_root 'template_layout/test_data/group_coregistration/func_mask_average_stereonl.nii.gz'];\n",
    "in.template.anat_outline = [path_layout 'layout_anat.nii.gz'];\n",
    "in.template.func_outline = [path_layout 'layout_func.nii.gz']'';\n",
    "opt.folder_out = [path_root 'template_layout/test_data/zooqc_adhd200_test3'];\n",
    "pipeline = zoo_report_fmri_preprocess(in,opt);\n"
   ]
  },
  {
   "cell_type": "code",
   "execution_count": null,
   "metadata": {
    "collapsed": false,
    "deletable": true,
    "editable": true,
    "scrolled": false
   },
   "outputs": [],
   "source": [
    "#run on guillimin\n",
    "clear all\n",
    "path_fmri_preproc ='/home/yassinebha/database/cobre_fmri_preprocess_nii_20160920/';\n",
    "in = zoo_grab_report_preprocess(path_fmri_preproc);\n",
    "in.group.avg_mask_func='/home/yassinebha/database/cobre_fmri_preprocess_nii_20160920/quality_control/group_coregistration/func_mask_average_stereonl_backup.mnc.gz';\n",
    "in.template.anat_outline = '/home/yassinebha/layout.nii.gz';\n",
    "opt.folder_out =['/home/yassinebha/test_zooqc_pipeline_cobre_' date];\n",
    "pipeline = zoo_report_fmri_preprocess(in,opt);"
   ]
  },
  {
   "cell_type": "code",
   "execution_count": null,
   "metadata": {
    "collapsed": true,
    "deletable": true,
    "editable": true
   },
   "outputs": [],
   "source": [
    "# search best coordinate or anat an func montage \n",
    "#coord_old =[-30 , -65 , -6 ;\n",
    "#             -8 , -25 ,  10 ;\n",
    "#             30 ,  45 ,  60];          \n",
    "             \n",
    "coord_anat =[-30 , -65 , -6 ;\n",
    "             -8 , -20 ,  13 ;\n",
    "             30 ,  54 ,  58];\n",
    "             \n",
    "coord_func =[-50 , -57 , 5 ;\n",
    "             -8 , -20 ,  19 ;\n",
    "             30 ,  45 ,  58];"
   ]
  }
 ],
 "metadata": {
  "kernelspec": {
   "display_name": "Octave",
   "language": "octave",
   "name": "octave"
  },
  "language_info": {
   "file_extension": ".m",
   "help_links": [
    {
     "text": "MetaKernel Magics",
     "url": "https://github.com/calysto/metakernel/blob/master/metakernel/magics/README.md"
    }
   ],
   "mimetype": "text/x-octave",
   "name": "octave",
   "version": "0.16.0"
  }
 },
 "nbformat": 4,
 "nbformat_minor": 2
}
