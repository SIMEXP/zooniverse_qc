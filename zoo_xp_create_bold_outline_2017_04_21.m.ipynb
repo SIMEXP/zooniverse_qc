{
 "cells": [
  {
   "cell_type": "markdown",
   "metadata": {},
   "source": [
    "### The goal of this XP:\n",
    "Create a outline image for functional QC in zooniverse platform - Brain Match \n",
    "1. Create functionl brain border outline\n",
    "2. Assemnble left/right funtional brain layout\n",
    "3. Merge all Layout\n",
    "3. Visualise in a montage"
   ]
  },
  {
   "cell_type": "code",
   "execution_count": 3,
   "metadata": {},
   "outputs": [
    {
     "name": "stdout",
     "output_type": "stream",
     "text": [
      "path_work = /sandbox/home/git/zooniverse_qc\n",
      "Adding library niak to the search path.\n",
      "\n",
      "Adding library psom to the search path.\n",
      "\n",
      "Adding library zooniverse_qc to the search path.\n",
      "\n"
     ]
    }
   ],
   "source": [
    "path_work = pwd\n",
    "cd\n",
    "build_path  niak psom zooniverse_qc  \n",
    "cd(path_work)"
   ]
  },
  {
   "cell_type": "markdown",
   "metadata": {},
   "source": [
    "### First create brain outlines"
   ]
  },
  {
   "cell_type": "code",
   "execution_count": 4,
   "metadata": {
    "collapsed": true
   },
   "outputs": [],
   "source": [
    "# Set path\n",
    "path_root = '/home/yassinebha/Drive/QC_zooniverse/';\n",
    "#path_root = '/media/yassinebha/database29/Drive/QC_zooniverse/';\n",
    "path_outline = [path_root 'template_layout/brain_outline_bold/'];\n",
    "path_layout = [path_root 'template_layout/layout/'];"
   ]
  },
  {
   "cell_type": "code",
   "execution_count": 5,
   "metadata": {},
   "outputs": [
    {
     "name": "stdout",
     "output_type": "stream",
     "text": [
      "(from miopen): Unable to open file '/home/yassinebha/Drive/QC_zooniverse/template_layout/brain_outline_bold/mni_icbm152_t1_tal_nlin_asym_09a_mask_dilated5mm.mnc.gz'\n",
      "ncvarid: ncid -1: NetCDF: Not a valid ID\n",
      "error: Couldn't find any file fitting the description /home/yassinebha/Drive/QC_zooniverse/template_layout/brain_outline_bold/func_mask_average_stereonl_1mm.mnc\n",
      "error: called from\n",
      "    niak_read_vol at line 188 column 13\n",
      "error: Couldn't find any file fitting the description /home/yassinebha/Drive/QC_zooniverse/template_layout/brain_outline_bold/mni_icbm152_t1_tal_nlin_asym_09a_mask.mnc.gz\n",
      "error: called from\n",
      "    niak_read_vol at line 188 column 13\n"
     ]
    }
   ],
   "source": [
    "# Reshape \n",
    "command_reshape = ['mincresample -clobber ' path_outline 'func_mask_average_stereonl.mnc.gz ' path_outline 'func_mask_average_stereonl_1mm.mnc -like ' path_outline 'mni_icbm152_t1_tal_nlin_asym_09a_mask_dilated5mm.mnc.gz -trilinear'];\n",
    "system(command_reshape);\n",
    "[hdr,avg_mask_bold] = niak_read_vol([path_outline 'func_mask_average_stereonl_1mm.mnc']);\n",
    "[hdr,mask_t1] = niak_read_vol([path_outline 'mni_icbm152_t1_tal_nlin_asym_09a_mask.mnc.gz']);"
   ]
  },
  {
   "cell_type": "code",
   "execution_count": null,
   "metadata": {},
   "outputs": [],
   "source": [
    "niak_montage(avg_mask_bold)"
   ]
  },
  {
   "cell_type": "code",
   "execution_count": null,
   "metadata": {},
   "outputs": [],
   "source": [
    "niak_montage(mask_t1)"
   ]
  },
  {
   "cell_type": "code",
   "execution_count": null,
   "metadata": {
    "collapsed": true
   },
   "outputs": [],
   "source": [
    "# Create brain border mask\n",
    "mask_t1_d = niak_morph(mask_t1,'-successive DDD');\n",
    "bold_in = avg_mask_bold>0.99;\n",
    "%bold_out = (avg_mask_bold>0)&~bold_in;\n",
    "bold_outline = ~bold_in&mask_t1_d;\n",
    "%mask = bold_out | t1_out;\n",
    "hdr.file_name = [path_outline 'mask_outline_brain_bold.nii.gz'];\n",
    "niak_write_vol(hdr,bold_outline);"
   ]
  },
  {
   "cell_type": "code",
   "execution_count": null,
   "metadata": {},
   "outputs": [],
   "source": [
    "niak_montage(bold_outline)"
   ]
  },
  {
   "cell_type": "code",
   "execution_count": null,
   "metadata": {},
   "outputs": [],
   "source": [
    "niak_montage(bold_outline)"
   ]
  },
  {
   "cell_type": "markdown",
   "metadata": {},
   "source": [
    "### Second assemble brain layout"
   ]
  },
  {
   "cell_type": "code",
   "execution_count": null,
   "metadata": {},
   "outputs": [],
   "source": [
    "# List layout\n",
    "list_layout = {(dir([path_layout 'left_*.nii.gz'])).name}"
   ]
  },
  {
   "cell_type": "code",
   "execution_count": null,
   "metadata": {},
   "outputs": [],
   "source": [
    "list_exclude = {'left_cingulate_sulcus.nii.gz','left_ventricul.nii.gz'};\n",
    "list_layout = list_layout(~ismember(list_layout,list_exclude))"
   ]
  },
  {
   "cell_type": "code",
   "execution_count": null,
   "metadata": {},
   "outputs": [],
   "source": [
    "# Assemble left right layout volume\n",
    "[hdr,vol] = niak_read_vol ([path_root 'template_layout/mni_icbm152_gm_tal_nlin_sym_09a.nii.gz']);\n",
    "vol_final = zeros(size(vol));\n",
    "for ii=1:length(list_layout)\n",
    "    fprintf('%s\\n',list_layout{ii}(6:end-7))\n",
    "    [hdr,mask] = niak_read_vol ([path_layout list_layout{ii}]);\n",
    "    vol_raw = vol;\n",
    "    vol_raw(mask==0) = 0;\n",
    "    region = sprintf('%s',list_layout{ii}(6:end-7));\n",
    "    switch region\n",
    "        case {'ventricul'}\n",
    "        vol_t = vol_raw>0.1; \n",
    "        case {'calcarine_sulcus'}\n",
    "        vol_t = vol_raw>0.6;\n",
    "        case {'tentorium_cerebelli'}\n",
    "        vol_t = vol_raw>0.5;\n",
    "        case {'central_sulcus' , 'cingulate_sulcus' , 'hippocampal_formation' , 'parieto-occipital_fissure'}\n",
    "        vol_t = vol_raw>0.2;\n",
    "    end   \n",
    "    hdr.file_name = [path_layout 'mask_layout/mask_' list_layout{ii}] ;\n",
    "    niak_write_vol (hdr,vol_t);\n",
    "    hdr.file_name = [path_layout 'mask_layout/mask_right' list_layout{ii}(5:end)];\n",
    "    vol_transpose = vol_t(end:-1:1,:,:);\n",
    "    niak_write_vol (hdr,vol_transpose);\n",
    "    vol_final = vol_final |vol_t | vol_transpose;\n",
    "end\n",
    "niak_montage(vol_final)"
   ]
  },
  {
   "cell_type": "markdown",
   "metadata": {},
   "source": [
    "### Merge all layout"
   ]
  },
  {
   "cell_type": "code",
   "execution_count": null,
   "metadata": {},
   "outputs": [],
   "source": [
    "% write final volume layout\n",
    "vol_final = vol_final | bold_outline;\n",
    "hdr.file_name = [path_layout 'mask_layout/mask_all_layout_v2.nii.gz'];\n",
    "niak_write_vol (hdr,vol_final);\n",
    "\n",
    "% smooth final volume layout\n",
    "vol_final_s = niak_morph (vol_final,'-successive DDEE');\n",
    "niak_montage (vol_final_s)\n",
    "hdr.file_name =  [path_layout 'mask_layout/mask_all_layout_v2_smoothed.nii.gz'];\n",
    "niak_write_vol (hdr,vol_final_s);"
   ]
  },
  {
   "cell_type": "markdown",
   "metadata": {},
   "source": [
    "### Create montage of bold layout"
   ]
  },
  {
   "cell_type": "code",
   "execution_count": null,
   "metadata": {},
   "outputs": [],
   "source": [
    "clear jin jout jopt\n",
    "% Input\n",
    "niak_gb_vars\n",
    "jin.source =[path_layout 'mask_layout/mask_all_layout_v2_smoothed.nii.gz'];\n",
    "jin.target = [ GB_NIAK.path_niak filesep 'template' filesep 'mni-models_icbm152-nl-2009-1.0' filesep ...\n",
    "'mni_icbm152_t1_tal_nlin_sym_09a.mnc.gz'];\n",
    "\n",
    "% Output\n",
    "jout = [path_layout 'mask_layout/mask_all_layout_v2_smoothed.png'];\n",
    "\n",
    "% Options\n",
    "jopt.colormap = 'jet';\n",
    "jopt.colorbar = false;\n",
    "jopt.flag_decoration = false;\n",
    "jopt.limits = [0 1.1];\n",
    "jopt.coord =[-30 , -65 , -6 ; \n",
    "             -8 , -25 ,  10 ;  \n",
    "             30 ,  45 ,  60];\n",
    "             \n",
    "% The generation of the montage itself\n",
    "niak_brick_vol2img(jin,jout,jopt);\n",
    "imshow(jout)"
   ]
  },
  {
   "cell_type": "code",
   "execution_count": null,
   "metadata": {
    "collapsed": true
   },
   "outputs": [],
   "source": []
  }
 ],
 "metadata": {
  "kernelspec": {
   "display_name": "Octave",
   "language": "octave",
   "name": "octave"
  },
  "language_info": {
   "file_extension": ".m",
   "help_links": [
    {
     "text": "GNU Octave",
     "url": "https://www.gnu.org/software/octave/support.html"
    },
    {
     "text": "Octave Kernel",
     "url": "https://github.com/Calysto/octave_kernel"
    },
    {
     "text": "MetaKernel Magics",
     "url": "https://github.com/calysto/metakernel/blob/master/metakernel/magics/README.md"
    }
   ],
   "mimetype": "text/x-octave",
   "name": "octave",
   "version": "4.0.2"
  },
  "widgets": {
   "state": {},
   "version": "1.1.2"
  }
 },
 "nbformat": 4,
 "nbformat_minor": 2
}
